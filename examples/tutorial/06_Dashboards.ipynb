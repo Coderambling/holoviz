{
 "cells": [
  {
   "cell_type": "markdown",
   "id": "3c9a7438",
   "metadata": {},
   "source": [
    "<style>div.container { width: 100% }</style>\n",
    "<img style=\"float:left;  vertical-align:text-bottom;\" height=\"65\" width=\"172\" src=\"../assets/holoviz-logo-unstacked.svg\" />\n",
    "<div style=\"float:right; vertical-align:text-bottom;\"><h2>Tutorial 6. Dashboards</h2></div>"
   ]
  },
  {
   "cell_type": "markdown",
   "id": "bd994ce7",
   "metadata": {},
   "source": [
    "So far in this tutorial, we have seen how to generate plots with `.plot` or `.hvplot`, how to compose these plots together into layouts and overlays, how to apply linked selections and how to control visualizations with Panel widgets using `.interactive`. In this notebook, we will learn how to put all these pieces together to display (and serve) these components in a dashboard.\n",
    "\n",
    "## Panel `pane` objects\n",
    "\n",
    "So far we have only seen Panel used as a source of widgets but Panel also offers `pane` objects that can display various types of data. First let's import panel and load the extension:"
   ]
  },
  {
   "cell_type": "code",
   "execution_count": null,
   "id": "3af06daa",
   "metadata": {},
   "outputs": [],
   "source": [
    "import numpy as np\n",
    "import pandas as pd\n",
    "import panel as pn\n",
    "import xarray as xr\n",
    "import holoviews as hv\n",
    "\n",
    "pn.extension('tabulator', template='material') # TODO: EXPLAIN\n",
    "pn.state.template.sidebar_width = 250 # TODO: EXPLAIN\n",
    "pn.config.sizing_mode = 'stretch_width' # TODO: EXPLAIN\n",
    "\n",
    "import colorcet as cc\n",
    "import hvplot.xarray  # noqa\n",
    "import hvplot.pandas # noqa\n",
    "pn.extension()"
   ]
  },
  {
   "cell_type": "markdown",
   "id": "958a42f7",
   "metadata": {},
   "source": [
    "One example of a `pane` is a `Markdown` pane which displays Markdown:"
   ]
  },
  {
   "cell_type": "code",
   "execution_count": null,
   "id": "16c7117b",
   "metadata": {},
   "outputs": [],
   "source": [
    "pn.pane.Markdown('## Earthquake Dashboard')"
   ]
  },
  {
   "cell_type": "markdown",
   "id": "5fc6d041",
   "metadata": {},
   "source": [
    "Another type of `pane` is the `PNG` pane which can display PNG images:"
   ]
  },
  {
   "cell_type": "code",
   "execution_count": null,
   "id": "e55930ed",
   "metadata": {},
   "outputs": [],
   "source": [
    "pn.pane.PNG('../assets/usgs_logo.png', height=130)"
   ]
  },
  {
   "cell_type": "markdown",
   "id": "9ed01c8d",
   "metadata": {},
   "source": [
    "## Using `pn.panel`\n",
    "\n",
    "Instead of having to select the pane type explicitly, you can use the `pn.panel` function which will try to guess the appropriate representation given the input. For instance, here we generate the same two panels using `pn.panel` and grab handles on the resulting objects:"
   ]
  },
  {
   "cell_type": "code",
   "execution_count": null,
   "id": "5ecfd5b5",
   "metadata": {},
   "outputs": [],
   "source": [
    "dashboard_title = pn.panel('## Earthquakes')\n",
    "usgs_logo = pn.panel('../assets/usgs_logo.png', height=130)"
   ]
  },
  {
   "cell_type": "markdown",
   "id": "29424703",
   "metadata": {},
   "source": [
    "#### Exercise\n",
    "\n",
    "Confirm that these two objects are of type `Markdown` and `PNG` respectively by using the `type` built-in. Explore using different markdown syntax such as *italic*, **bold** or adding bullet points. Finally, try displaying your own PNG image with a `PNG` pane."
   ]
  },
  {
   "cell_type": "markdown",
   "id": "a9e16cf3",
   "metadata": {},
   "source": [
    "## `Panel` objects\n",
    "\n",
    "In addition to `pane` objects, Panel offers containers of type `panel` which allows you to position your components into various layouts. For instance, we can put a small version of our title and logo into a `Row` layout:"
   ]
  },
  {
   "cell_type": "code",
   "execution_count": null,
   "id": "51a9c0cc",
   "metadata": {},
   "outputs": [],
   "source": [
    "header = pn.Row(dashboard_title, pn.pane.PNG('../assets/usgs_logo.png', height=40))\n",
    "header"
   ]
  },
  {
   "cell_type": "markdown",
   "id": "da64a2d3",
   "metadata": {},
   "source": [
    "Next let us load the earthquake dataset and make a basic plot of the sort we have seen earlier on in the tutorial:"
   ]
  },
  {
   "cell_type": "code",
   "execution_count": null,
   "id": "76474d31",
   "metadata": {},
   "outputs": [],
   "source": [
    "df = pd.read_parquet('../data/earthquakes.parq')\n",
    "df = df.set_index('time').tz_convert(None).reset_index()\n",
    "small_df = df.sample(frac=.01)\n",
    "\n",
    "ds = xr.open_dataarray('../data/raster/gpw_v4_population_density_rev11_2010_2pt5_min.nc')\n",
    "cleaned_ds = ds.where(ds.values != ds.nodatavals).sel(band=1)\n",
    "cleaned_ds.name = 'population'"
   ]
  },
  {
   "cell_type": "code",
   "execution_count": null,
   "id": "bd9fecbd",
   "metadata": {},
   "outputs": [],
   "source": [
    "sample_points = small_df.hvplot.points(x='longitude', y='latitude', c='mag', cmap=cc.CET_L4)\n",
    "rasterized_pop = cleaned_ds.hvplot.image(rasterize=True, logz=True, clim=(1, np.nan)).opts(bgcolor='black')\n",
    "earthquake_example = rasterized_pop * sample_points\n",
    "earthquake_example"
   ]
  },
  {
   "cell_type": "markdown",
   "id": "82ec68c0",
   "metadata": {},
   "source": [
    "Now we can combine this plot with our header in a `pn.Column`:"
   ]
  },
  {
   "cell_type": "code",
   "execution_count": null,
   "id": "56798768",
   "metadata": {},
   "outputs": [],
   "source": [
    "mini_dashboard = pn.Column(header, earthquake_example)\n",
    "mini_dashboard"
   ]
  },
  {
   "cell_type": "markdown",
   "id": "09ad89db",
   "metadata": {},
   "source": [
    "## Showing and serving dashboards\n",
    "\n",
    "Now`mini_dashboard` is a panel object that can be displayed or served as a simple dashboard. To view the dashboard in a new tab, you can simply call `.show()`:"
   ]
  },
  {
   "cell_type": "code",
   "execution_count": null,
   "id": "ca560f49",
   "metadata": {},
   "outputs": [],
   "source": [
    "# mini_dashboard.show()"
   ]
  },
  {
   "cell_type": "markdown",
   "id": "2690d72e",
   "metadata": {},
   "source": [
    "If instead of `.show()` you use the `.servable()` method, you can serve the dashboard from this notebook using the command:\n",
    "\n",
    "```bash\n",
    "$ panel serve 07_Dashboard.ipynb\n",
    "```\n",
    "\n",
    "We will use this to serve a more sophisticated dashboard built in this notebook."
   ]
  },
  {
   "cell_type": "markdown",
   "id": "41c85c59",
   "metadata": {},
   "source": [
    "## A visual earthquake filter\n",
    "\n",
    "From the last notebook, first subset the data:"
   ]
  },
  {
   "cell_type": "code",
   "execution_count": null,
   "id": "5ed51363",
   "metadata": {},
   "outputs": [],
   "source": [
    "from datashader.utils import lnglat_to_meters\n",
    "subset_df = df[\n",
    "            (df['mag']   > 4) &\n",
    "            (df['time'] >= pd.Timestamp('2017-01-01')) &\n",
    "            (df['time'] <= pd.Timestamp('2018-01-01'))\n",
    "]\n",
    "\n",
    "x, y = lnglat_to_meters(subset_df['longitude'], subset_df['latitude'])\n",
    "subset_projected = subset_df.join([pd.DataFrame({'easting': x}), pd.DataFrame({'northing': y})])"
   ]
  },
  {
   "cell_type": "markdown",
   "id": "5372277e",
   "metadata": {},
   "source": [
    "Declare the panel widgets:"
   ]
  },
  {
   "cell_type": "code",
   "execution_count": null,
   "id": "c5d4626a",
   "metadata": {},
   "outputs": [],
   "source": [
    "date_subrange = pn.widgets.DateRangeSlider(name='Date', \n",
    "                                        start=subset_df.time.iloc[0], \n",
    "                                        end=subset_df.time.iloc[-1])\n",
    "mag_subrange = pn.widgets.FloatSlider(name='Magnitude', start=3, end=9, value=3)"
   ]
  },
  {
   "cell_type": "markdown",
   "id": "7983c759",
   "metadata": {},
   "source": [
    "Create an interactive `DataFrame` and use `hvplot` to generate a visualization of earthquakes plotted on a map and controlled with widgets:"
   ]
  },
  {
   "cell_type": "code",
   "execution_count": null,
   "id": "7dcfe70e",
   "metadata": {},
   "outputs": [],
   "source": [
    "subset_dfi = subset_projected.interactive(sizing_mode='stretch_width')\n",
    "filtered_subrange = subset_dfi[\n",
    "    (subset_dfi['mag']   > mag_subrange) &\n",
    "    (subset_dfi['time'] >= date_subrange.param.value_start) &\n",
    "    (subset_dfi['time'] <= date_subrange.param.value_end)\n",
    "]\n",
    "\n",
    "geo = filtered_subrange.hvplot(\n",
    "    'easting', 'northing', color='mag', kind='points',\n",
    "    xaxis=None, yaxis=None, responsive=True, min_height=500, tiles='ESRI'\n",
    ")"
   ]
  },
  {
   "cell_type": "markdown",
   "id": "211b9b19",
   "metadata": {},
   "source": [
    "This `geo` object works in panel layouts which means we can now add a header to it:"
   ]
  },
  {
   "cell_type": "code",
   "execution_count": null,
   "id": "9f2c6d5b",
   "metadata": {},
   "outputs": [],
   "source": [
    "pn.Column(header, geo)"
   ]
  },
  {
   "cell_type": "markdown",
   "id": "4f0ca48b",
   "metadata": {},
   "source": [
    "We now have a functional dashboard that we can show with `.show()` or serve with `.servable()`."
   ]
  },
  {
   "cell_type": "markdown",
   "id": "af7410cf",
   "metadata": {},
   "source": [
    "## Final Dashboard\n",
    "\n",
    "We can now put all the concepts we have learned together to make a sophisticated, interactive dashboard:"
   ]
  },
  {
   "cell_type": "markdown",
   "id": "d17b90e9",
   "metadata": {},
   "source": [
    "# VERSION WITH TABLE (only partially working)\n",
    "\n",
    "* Note: Uses servable(area='sidebar')\n",
    "* Table not linked"
   ]
  },
  {
   "cell_type": "code",
   "execution_count": null,
   "id": "24ed1984",
   "metadata": {},
   "outputs": [],
   "source": [
    "ls = hv.link_selections.instance()\n",
    "\n",
    "# Table is not yet dynamically linked to the linked selection (still thinking about the best way to do this)\n",
    "table = filtered_subrange[['time', 'place', 'mag', 'depth']].pipe(ls.filter).pipe(pn.widgets.Tabulator, \n",
    "                                                                         pagination='remote', page_size=10)\n",
    "\n",
    "mag_hist = filtered_subrange.hvplot(\n",
    "    y='mag', kind='hist', responsive=True, min_height=200\n",
    ")\n",
    "\n",
    "depth_hist = filtered_subrange.hvplot(\n",
    "    y='depth', kind='hist', responsive=True, min_height=200\n",
    ")\n",
    "\n",
    "geo = filtered_subrange.hvplot(\n",
    "    'easting', 'northing', color='mag', kind='points',\n",
    "    xaxis=None, yaxis=None, responsive=True, min_height=500\n",
    ")\n",
    "\n",
    "\n",
    "filtered_subrange.widgets().servable(area='sidebar')\n",
    "\n",
    "pn.Column(\n",
    "    hv.element.tiles.ESRI() * ls(geo.holoviews()),\n",
    "    pn.Row(ls(depth_hist.holoviews()), ls(mag_hist.holoviews()), table.panel()), \n",
    "    sizing_mode='stretch_width'\n",
    ").servable(title='Earthquake Interactive Demo')"
   ]
  }
 ],
 "metadata": {
  "language_info": {
   "name": "python",
   "pygments_lexer": "ipython3"
  }
 },
 "nbformat": 4,
 "nbformat_minor": 5
}
