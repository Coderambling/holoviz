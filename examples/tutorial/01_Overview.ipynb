{
 "cells": [
  {
   "cell_type": "markdown",
   "metadata": {},
   "source": [
    "<style>div.container { width: 100% }</style>\n",
    "<img style=\"float:left;  vertical-align:text-bottom;\" height=\"65\" width=\"172\" src=\"../assets/holoviz-logo-unstacked.svg\" />\n",
    "<div style=\"float:right; vertical-align:text-bottom;\"><h2>Tutorial 1. Overview</h2></div>\n",
    "<br><br>\n"
   ]
  },
  {
   "cell_type": "markdown",
   "metadata": {},
   "source": [
    "# Welcome to HoloViz!\n",
    "\n",
    "HoloViz is a set of compatible tools for working with your data visually at every stage:\n",
    "\n",
    "- importing and cleaning\n",
    "- initial exploration\n",
    "- testing hypotheses\n",
    "- generating accurate and convincing figures\n",
    "- sharing and deploying live apps\n",
    "- improving and adapting each stage over time"
   ]
  },
  {
   "cell_type": "markdown",
   "metadata": {},
   "source": [
    "## Reducing friction between stages\n",
    "\n",
    "Crucially, HoloViz tools also make it simple to *transition* between these phases, avoiding dead ends where you have to start over. \n",
    "\n",
    "The goal is to help you get the most out of data, efficiently, over its *entire* life cycle."
   ]
  },
  {
   "cell_type": "markdown",
   "metadata": {},
   "source": [
    "## How does it work?\n",
    "\n",
    "Typical [viz tools](https://pyviz.org/tools.html) are limited to one or two of these stages: \n",
    "\n",
    "- Simple, quick plots, but limited in capabilities, customization, and compositionality.\n",
    "- Deep capabilities for print-based plots, but no support for custom interactivity in web apps.\n",
    "- Good interactivity in Jupyter, but no support for batch processing or deployed servers.\n",
    "- Good support for deployed servers, but weak or no support for Jupyter.\n",
    "- Good support only for small datasets, which is fine once the data is understood well enough to choose a good subset, but not appropriate for the first exploratory views.\n",
    "\n",
    "In reality, many users, research groups, and projects need *all* of these stages eventually."
   ]
  },
  {
   "cell_type": "markdown",
   "metadata": {},
   "source": [
    "<div style=\"clear:left;\">\n",
    "<img src=\"../assets/landscape_hv_nx.png\" width=65% align=\"left\" style=\"margin: 0px 30px\">\n",
    "<br><br><br><br><br>\n",
    "That's how we ended up with so many different libraries in Python...\n",
    "</div>"
   ]
  },
  {
   "cell_type": "markdown",
   "metadata": {},
   "source": [
    "## How can HoloViz support all the stages and transitions?\n",
    "\n",
    "- Focus on tools that support web browsers fully -- all tools offer static output, but not vice versa.\n",
    "- Focus on writing Python, not web tech -- web tech like JS/CSS would be fine for deployments, but very impractical for exploratory analysis.\n",
    "- Eliminate browser-based data-size restrictions, to avoid having to switch tools.\n",
    "- Provide high-level (quick and convenient) interfaces that are shortcuts, not dead ends:"
   ]
  },
  {
   "cell_type": "markdown",
   "metadata": {},
   "source": [
    "## Shortcuts, not dead ends\n",
    "\n",
    "<img src=\"../assets/shortcuts.png\" width=70% align=\"left\">"
   ]
  },
  {
   "cell_type": "markdown",
   "metadata": {},
   "source": [
    "## Principles at work:\n",
    "\n",
    "- Throughout the tutorial, you'll see these principles at work\n",
    "- We'll usually start out with an easy one-line command to build a dashboard, app, or plot.\n",
    "- Then we'll show what you can do with it at this level: customize it, compose it with other things, etc.\n",
    "- Then we'll show you how to drop down a level when you need to make it do what you want\n",
    "- Repeat as necessary, all the way down to the HTML, CSS, and JS!"
   ]
  },
  {
   "cell_type": "markdown",
   "metadata": {},
   "source": [
    "<div style=\"clear:left;\">\n",
    "<img src=\"../assets/landscape_hv_nx_pyviz.png\" width=65% \n",
    "align=\"left\" style=\"margin: 0px 30px\">\n",
    "\n",
    "<br><br><H1>HoloViz:</H1>\n",
    "<br><br>\n",
    "Builds on this specific subset of tools\n",
    "<br><br>\n",
    "Supported by Anaconda, Inc.\n",
    "<br><br><br>\n",
    "</div>\n",
    "<div style=\"clear:left;\"></div>"
   ]
  },
  {
   "cell_type": "markdown",
   "metadata": {},
   "source": [
    "## The HoloViz ecosystem\n",
    "\n",
    "<img src=\"../assets/pn_hv_gv_bk_ds_pa.png\" width=\"70%\" style=\"margin: 0px 10%\">\n",
    "\n",
    "To address all the above issues, we have developed a set of open-source\n",
    "Python packages to streamline the process of working with small and\n",
    "large datasets (from a few datapoints to billions or more) in a web\n",
    "browser, whether doing exploratory analysis, making simple widget-based\n",
    "tools, or building full-featured dashboards. The main libraries in this\n",
    "ecosystem include:\n",
    "\n",
    "-   [Panel](http://panel.pyviz.org): Assembling objects from many different libraries into a layout or app, whether in a Jupyter notebook or in a standalone servable dashboard\n",
    "-   [hvPlot](http://hvplot.pyviz.org): Quickly return interactive Bokeh-based HoloViews or GeoViews objects from Pandas, Xarray, orother data structures\n",
    "-   [HoloViews](http://holoviews.org): Declarative objects for instantly visualizable data, building Bokeh plots from convenient high-level specifications\n",
    "-   [GeoViews](http://geo.holoviews.org): Visualizable geographic data that that can be mixed and matched with HoloViews objects\n",
    "-   [Datashader](http://datashader.org): Rasterizing huge datasets quickly as fixed-size images\n",
    "-   [Param](http://param.pyviz.org): Declaring user-relevant parameters, making it simple to work with widgets inside and outside of a notebook context"
   ]
  },
  {
   "cell_type": "markdown",
   "metadata": {},
   "source": [
    "## Built on the Python scientific ecosystem\n",
    "\n",
    "Beyond the specific HoloViz tools, all these approaches work with and often rely upon a wide range of other open-source libraries for their implementation, including: \n",
    "\n",
    "-   [Bokeh](https://bokeh.org): HTML/JS plots in a web browser for Python data structures (used by Panel, hvPlot, HoloViews, GeoViews)\n",
    "-   [Matplotlib](https://matplotlib.org): Flexible, publication-quality plots (used by HoloViews, Geoviews; used with Panel)\n",
    "-   [Pandas](http://pandas.pydata.org): Convenient computation on columnar datasets (used by HoloViews and Datashader)\n",
    "-   [Xarray](http://xarray): Convenient computations on multidimensional array datasets (used by hvPlot HoloViews and Datashader)\n",
    "-   [Dask](http://dask.pydata.org): Efficient out-of-core/distributed computation on massive datasets (used by hvPlot, Datashader)\n",
    "-   [Numba](http://numba.pydata.org): Accelerated machine code for inner loops (used by Datashader)\n",
    "-   [Fastparquet](https://fastparquet.readthedocs.io): Efficient storage for columnar data (used with Datashader)\n",
    "-   [Cartopy](http://scitools.org.uk/cartopy): Support for geographical data (used by GeoViews; uses a wide range of other lower-level libraries)"
   ]
  },
  {
   "cell_type": "markdown",
   "metadata": {},
   "source": [
    "## The HoloViz tutorial\n",
    "\n",
    "- Building apps in Jupyter that deploy as servers\n",
    "- Using widgets to explore parameter spaces\n",
    "- Making interactive plots from dataframes and multidimensional data\n",
    "- Customizing interactive links and behavior\n",
    "- Working with arbitrarily large datasets\n",
    "- Building complex internally interlinked dashboards"
   ]
  },
  {
   "cell_type": "markdown",
   "metadata": {},
   "source": [
    "## Demos\n",
    "\n",
    "To give you an idea what sort of functionality is possible with these tools, you can check out some of these links first if you wish:\n",
    "\n",
    "-   [Selection stream](http://holoviews.org/reference/apps/bokeh/selection_stream.html)\n",
    "-   [Bounds stream](http://holoviews.org/reference/streams/bokeh/BoundsX.html)\n",
    "-   [Mandelbrot](http://holoviews.org/gallery/apps/bokeh/mandelbrot.html)\n",
    "-   [DynamicMap](http://holoviews.org/reference/containers/bokeh/DynamicMap.html)\n",
    "-   [Crossfilter](http://holoviews.org/gallery/apps/bokeh/crossfilter.html)\n",
    "-   [Game of Life](http://holoviews.org/gallery/apps/bokeh/game\\_of\\_life.html)\n",
    "-   [Dragon curve](http://holoviews.org/gallery/demos/bokeh/dragon\\_curve.html)\n",
    "-   [Datashader NYC Taxi](https://anaconda.org/jbednar/nyc_taxi)\n",
    "-   [Datashader Graphs](https://anaconda.org/jbednar/edge_bundling)\n",
    "-   [Datashader Landsat images](http://datashader.org/topics/landsat.html)\n",
    "-   [Datashader OpenSky](https://anaconda.org/jbednar/opensky)"
   ]
  },
  {
   "cell_type": "markdown",
   "metadata": {},
   "source": [
    "## Getting started\n",
    "\n",
    "First, you should browse through the already-run versions of the HoloViz [tutorials](tutorial/index.html) to see what they cover and how it all works. But everything on this website is a Jupyter Notebook that you can run yourself, once you follow the [installation](../installation) instructions, so the next step is to try it all out and have fun exploring it! "
   ]
  },
  {
   "cell_type": "markdown",
   "metadata": {},
   "source": [
    "## To summarize\n",
    "\n",
    "- HoloViz provides a set of very high-level tools for interacting with data\n",
    "- These tools make it simple to work with multidimensional data, flexibly selecting, visualizing, combining, and comparing it.\n",
    "- The tools focus on information visualization in 2D in web browsers, not 3D scientific visualization.\n",
    "- Together the tools support a flexible workflow with very little friction between initial exploratory analysis, making interactive apps, building fully deployable dashboards, and revisiting the initial analyses as needed, with changes immediately propagating to the deployed dashboard.\n",
    "- The tools are designed around \"shortcuts\", not \"dead ends\", and so there is always another level deeper that you can go if you need more power or more customization.\n",
    "- We'll show how to:\n",
    "   * create simple but powerful apps and dashboards out of anything in a Jupyter notebook\n",
    "   * make simple but powerful plots out of Pandas dataframes and Xarray multidimensional arrays\n",
    "   * handle columnar data, big data, geo data, array data\n",
    "   * handle the whole process from getting the data in, cleaning it, exploring it visually, creating plots for communication, building dashboards for sharing your analyses, and deploying dashboards."
   ]
  }
 ],
 "metadata": {
  "kernelspec": {
   "display_name": "Python 3",
   "language": "python",
   "name": "python3"
  },
  "language_info": {
   "codemirror_mode": {
    "name": "ipython",
    "version": 3
   },
   "file_extension": ".py",
   "mimetype": "text/x-python",
   "name": "python",
   "nbconvert_exporter": "python",
   "pygments_lexer": "ipython3",
   "version": "3.6.8"
  }
 },
 "nbformat": 4,
 "nbformat_minor": 2
}
