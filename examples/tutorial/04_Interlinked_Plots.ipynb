{
 "cells": [
  {
   "cell_type": "markdown",
   "metadata": {},
   "source": [
    "<style>div.container { width: 100% }</style>\n",
    "<img style=\"float:left;  vertical-align:text-bottom;\" height=\"65\" width=\"172\" src=\"../assets/holoviz-logo-unstacked.svg\" />\n",
    "<div style=\"float:right; vertical-align:text-bottom;\"><h2>Tutorial 4. Interlinked Plots</h2></div>"
   ]
  },
  {
   "cell_type": "markdown",
   "metadata": {},
   "source": [
    "Using hvPlot allows you to generate a number of different types of plot\n",
    "quickly from a standard API by building [HoloViews](https://holoviews.org) objects, as discussed in the previous\n",
    "notebook. These objects are rendered with Bokeh which offers a number of\n",
    "standard ways to interact with your plot, such as panning and zooming\n",
    "tools.\n",
    "\n",
    "Many other modes of interactivity are possible when building an\n",
    "exploratory visualization (such as a dashboard) and these forms of\n",
    "interactivity cannot be achieved using hvPlot alone.\n",
    "\n",
    "In this notebook, we will drop down to the HoloViews level of\n",
    "representation to build a visualization directly that consists of linked plots that\n",
    "update when you interactivity select a particular set of earthquakes with the\n",
    "mouse. The goal is to show how more sophisticated forms of interactivity can be built when needed, in a way that's fully compatible with all the examples shown in earlier sections."
   ]
  },
  {
   "cell_type": "markdown",
   "metadata": {},
   "source": [
    "First let us load our initial imports:"
   ]
  },
  {
   "cell_type": "code",
   "execution_count": null,
   "metadata": {},
   "outputs": [],
   "source": [
    "import holoviews as hv\n",
    "import pandas as pd\n",
    "import dask.dataframe as dd\n",
    "import hvplot.pandas  # noqa\n",
    "from datashader.utils import lnglat_to_meters\n",
    "from holoviews.element import tiles\n",
    "import colorcet as cc"
   ]
  },
  {
   "cell_type": "markdown",
   "metadata": {},
   "source": [
    "And clean the data before filtering (for magnitude `>7`) and projecting to to Web Mercator as before:"
   ]
  },
  {
   "cell_type": "code",
   "execution_count": null,
   "metadata": {},
   "outputs": [],
   "source": [
    "df = dd.read_parquet('../data/earthquakes.parq').repartition(npartitions=4)\n",
    "cleaned_df = df.copy()\n",
    "cleaned_df['mag'] = df.mag.where(df.mag > 0)\n",
    "cleaned_reindexed_df = cleaned_df.set_index(cleaned_df.time)\n",
    "cleaned_reindexed_df = cleaned_reindexed_df.persist()\n",
    "\n",
    "most_severe = cleaned_reindexed_df[cleaned_reindexed_df.mag >= 7].compute()\n",
    "x, y = lnglat_to_meters(most_severe.longitude, most_severe.latitude)\n",
    "most_severe_projected = most_severe.join([pd.DataFrame({'easting': x}), pd.DataFrame({'northing': y})])"
   ]
  },
  {
   "cell_type": "markdown",
   "metadata": {},
   "source": [
    "Towards the end of the previous notebook we generated a scatter plot of earthquakes\n",
    "across the earth that had a magnitude `>7` that was projected using \n",
    "datashader and overlaid on top of a map tile source:"
   ]
  },
  {
   "cell_type": "code",
   "execution_count": null,
   "metadata": {},
   "outputs": [],
   "source": [
    "high_mag_quakes = most_severe_projected.hvplot.points(x='easting', y='northing', c='mag', \n",
    "                                                      title='Earthquakes with magnitude >= 7')\n",
    "esri = tiles.ESRI().redim(x='easting', y='northing')\n",
    "esri * high_mag_quakes"
   ]
  },
  {
   "cell_type": "markdown",
   "metadata": {},
   "source": [
    "And saw how this object is a HoloViews `Points` object:"
   ]
  },
  {
   "cell_type": "code",
   "execution_count": null,
   "metadata": {},
   "outputs": [],
   "source": [
    "print(high_mag_quakes)"
   ]
  },
  {
   "cell_type": "markdown",
   "metadata": {},
   "source": [
    "This object is an example of a HoloViews *Element* which is an object that can display itself. These elements are *thin* wrappers around your data and the raw input data is always available on the `.data` attribute. For instance, we can look at the `head` of the `most_severe_projected` `DataFrame` as follows:"
   ]
  },
  {
   "cell_type": "code",
   "execution_count": null,
   "metadata": {},
   "outputs": [],
   "source": [
    "high_mag_quakes.data.head()"
   ]
  },
  {
   "cell_type": "markdown",
   "metadata": {},
   "source": [
    "Of course, we can build the equivalent visualization by creating HoloViews elements explicitly and overlaying then with the `*` operator: "
   ]
  },
  {
   "cell_type": "code",
   "execution_count": null,
   "metadata": {},
   "outputs": [],
   "source": [
    "esri * hv.Points(most_severe_projected, ['easting', 'northing'], 'mag').opts(color='mag', size=8, aspect='equal')"
   ]
  },
  {
   "cell_type": "markdown",
   "metadata": {},
   "source": [
    "### A brief introduction to `.opts()`\n",
    "\n",
    "In the example at the end of the last notebook, you may have noticed the use of `.opts(bgcolor='black')` to give our population raster a dark background. In the cell above, you can see this method is used again with `.opts(color='mag', size=8, aspect='equal')`. How are these settings different from those supplied in the calls to `.hvplot`?\n",
    "\n",
    "The answer is that when setting options with `.hvplot` you are actually using `.hvplot` to customize HoloViews options which are set with `.opts` on HoloViews objects. Most settings can be set via `.hvplot` but occasionally there are settings that are only available at the HoloViews level (such as `bgcolor='black'` in the earlier example). In these cases, you may be able to achieve the the required flexibility by using the `.opts` method instead."
   ]
  },
  {
   "cell_type": "markdown",
   "metadata": {},
   "source": [
    "## The HoloViews `help` system\n",
    "\n",
    "You can learn more about the `.opts` method and the HoloViews options\n",
    "system in the [corresponding user\n",
    "guide](http://holoviews.org/user_guide/Applying_Customizations.html). To\n",
    "easily learn about the available options from inside a notebook, you can\n",
    "use `hv.help` and inspect the 'Style Options'."
   ]
  },
  {
   "cell_type": "code",
   "execution_count": null,
   "metadata": {},
   "outputs": [],
   "source": [
    "# Commented as there is a lot of help output!\n",
    "# hv.help(hv.Points) "
   ]
  },
  {
   "cell_type": "markdown",
   "metadata": {},
   "source": [
    "#### Exercise\n",
    "\n",
    "Try using `hv.help` to inspect the options available for different element types such as an `Image` element. Copy the code cell above into the cell below and pick a `Points` option that makes sense to you and try using it in the `.opts` method."
   ]
  },
  {
   "cell_type": "code",
   "execution_count": null,
   "metadata": {},
   "outputs": [],
   "source": []
  },
  {
   "cell_type": "markdown",
   "metadata": {},
   "source": [
    "<details><summary>Hint</summary><br>\n",
    "\n",
    "If you can't decide on an option to pick, a good choice is `marker`. For instance, try:\n",
    "\n",
    " * `marker='+'` \n",
    " * `marker='d'`.\n",
    " \n",
    " HoloViews uses [matplotlib's conventions](https://matplotlib.org/3.1.0/api/markers_api.html) for specifying the various marker types. Try finding out which ones are support by Bokeh.\n",
    "\n",
    "</details>"
   ]
  },
  {
   "cell_type": "markdown",
   "metadata": {},
   "source": [
    "## Linked brushing across elements\n",
    "\n",
    "In the previous notebook, we saw how plot axes are linked for panning and zooming when using the `+` operator provided the dimensions match. When dimensions match across plots of a single dataset, we can use a similar principle to achieve linked brushing.\n",
    "\n",
    "To illustrate, let us generate two histograms from our `most_severe_projected` DataFrame:\n"
   ]
  },
  {
   "cell_type": "code",
   "execution_count": null,
   "metadata": {},
   "outputs": [],
   "source": [
    "mag_hist = most_severe_projected.hvplot(\n",
    "    y='mag', kind='hist', responsive=True, min_height=200\n",
    ")\n",
    "\n",
    "depth_hist = most_severe_projected.hvplot(\n",
    "    y='depth', kind='hist', responsive=True, min_height=200\n",
    ")"
   ]
  },
  {
   "cell_type": "markdown",
   "metadata": {},
   "source": [
    "These two histograms are plotting two different dimensions of our earthquake dataset (magnitude and depth), derived from the same set of earthquake samples. The samples between these two histograms implicitly share an index, which allows us to enable linked brushing as follows:"
   ]
  },
  {
   "cell_type": "code",
   "execution_count": null,
   "metadata": {},
   "outputs": [],
   "source": [
    "ls = hv.link_selections.instance()\n",
    "ls(depth_hist)+ ls(mag_hist)"
   ]
  },
  {
   "cell_type": "markdown",
   "metadata": {},
   "source": [
    "Try using the first Bokeh tool to select areas of either histogram: you'll then see both the depth and magnitude distribution for the bins you have selected.\n",
    "\n",
    "Here `ls` declares an object representing our linked selection. We can then pass our two histograms to `ls` to declare their linkage and then put them in a layout with the `+` operator.\n",
    "\n",
    "Note that these two histograms are derived from the same `DataFrame` but this isn't necessary to achieve the linked behavior! If linking two different `DataFrames`, the important thing to check is that the columns/index are consistent and that the plots you are visualizing make sense when linked together.\n",
    "\n",
    "## Linked brushing across element types\n",
    "\n",
    "The previous example linked across two histograms, but nothing prevents you from linked brushing across different element types. Here are our earthquake points, also derived from the same `DataFrame` where the only change from earlier is that we are using the warm colormap (described in the previous notebook):"
   ]
  },
  {
   "cell_type": "code",
   "execution_count": null,
   "metadata": {},
   "outputs": [],
   "source": [
    "geo = most_severe_projected.hvplot(\n",
    "    'easting', 'northing', color='mag', kind='points',\n",
    "    xaxis=None, yaxis=None, responsive=True, min_height=500, cmap = cc.CET_L4[::-1]\n",
    ")"
   ]
  },
  {
   "cell_type": "markdown",
   "metadata": {},
   "source": [
    "Once again, we just need to pass our points to the `ls` object to declare the linkage:"
   ]
  },
  {
   "cell_type": "code",
   "execution_count": null,
   "metadata": {},
   "outputs": [],
   "source": [
    "((hv.element.tiles.ESRI() * ls(geo)) + ls(depth_hist))"
   ]
  },
  {
   "cell_type": "markdown",
   "metadata": {},
   "source": [
    "Now you can select earthquakes on the map and view their corresponding depth distribution or vice versa."
   ]
  },
  {
   "cell_type": "markdown",
   "metadata": {},
   "source": [
    "## Accessing the data selection\n",
    "\n",
    "If you pass your `DataFrame` into the `.filter` method of your linked selection object, you can apply the active filter that you specified interactively. This returns a HoloViews object called a `DataSet`:"
   ]
  },
  {
   "cell_type": "code",
   "execution_count": null,
   "metadata": {},
   "outputs": [],
   "source": [
    "ls.filter(most_severe_projected)"
   ]
  },
  {
   "cell_type": "markdown",
   "metadata": {},
   "source": [
    "This object lets you get back the filtered `DataFrame` by calling the `.dframe()` method:"
   ]
  },
  {
   "cell_type": "code",
   "execution_count": null,
   "metadata": {},
   "outputs": [],
   "source": [
    "ls.filter(most_severe_projected).dframe()"
   ]
  },
  {
   "cell_type": "markdown",
   "metadata": {},
   "source": [
    "Try selecting a small number of earthquakes on the map above and re-running the previous cell. You should see that your `DataFrame` only includes the earthquakes you have selected."
   ]
  },
  {
   "cell_type": "markdown",
   "metadata": {},
   "source": [
    "## Conclusion\n",
    "\n",
    "When exploring data it can be convenient to use the `.plot` API to quickly visualize a particular dataset. By calling `.plot` to generate different plots over the course of a session, it is possible to gradually build up a mental model of how a particular dataset is structured. While this works well for simple datasets, it can be more efficient to build a linked visualization with support for direct user interaction as a tool for more rapidly gaining insight.\n",
    "\n",
    "In particular, with interlinked plots you can:\n",
    "\n",
    "1. Interactively explore high-dimensional data by making selections across different views of the same underlying samples.\n",
    "2. Turn this interactive exploration into a subselection of your data, allowing you to continue your data analysis on a subset of your data that you interactively selected.\n",
    "\n",
    "In the next section we will see how to apply data processing in a pipelined form, allowing us to build interactive visualizations driven by widgets."
   ]
  }
 ],
 "metadata": {
  "kernelspec": {
   "display_name": "Python 3",
   "language": "python",
   "name": "python3"
  },
  "language_info": {
   "codemirror_mode": {
    "name": "ipython",
    "version": 3
   },
   "file_extension": ".py",
   "mimetype": "text/x-python",
   "name": "python",
   "nbconvert_exporter": "python",
   "pygments_lexer": "ipython3",
   "version": "3.8.10"
  }
 },
 "nbformat": 4,
 "nbformat_minor": 4
}
