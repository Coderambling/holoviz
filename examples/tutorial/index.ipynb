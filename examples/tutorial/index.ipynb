{
 "cells": [
  {
   "cell_type": "markdown",
   "metadata": {},
   "source": [
    "<style>div.container { width: 100% }</style>\n",
    "<img style=\"float:left;  vertical-align:text-bottom;\" height=\"65\" width=\"172\" src=\"../assets/holoviz-logo-unstacked.svg\" />\n",
    "<div style=\"float:right; vertical-align:text-bottom;\"><h2>Tutorial Index</h2></div>"
   ]
  },
  {
   "cell_type": "markdown",
   "metadata": {},
   "source": [
    "<div class=\"alert alert-warning\" role=\"alert\"> <strong>WORK IN PROGRESS:</strong> We are in the progress of updating these materials in anticipation of a tutorial at the 2019 SciPy conference. Work will be complete by the morning of July 8th 2019. Check out <a href=\"https://github.com/pyviz/holoviz/tree/v0.1.1\">this tag</a> to access the materials as they were before these changes started. For the latest version of the tutorial, visit <a href=\"https://holoviz.org/tutorial\">holoviz.org</a>.\n",
    "</div>"
   ]
  },
  {
   "cell_type": "markdown",
   "metadata": {},
   "source": [
    "This tutorial will take you through all of the steps involved in exploring data of many different types and sizes, building simple and complex figures, working with billions of data points, adding interactive behavior, widgets and controls, and deploying full dashboards and applications.\n",
    "\n",
    "We'll be using a wide range of open-source Python libraries, including the [Anaconda](http://anaconda.com)-supported tools\n",
    "[Panel](http://panel.pyviz.org), \n",
    "[HoloViews](http://holoviews.org),\n",
    "[GeoViews](http://geoviews.org),\n",
    "[Bokeh](https://bokeh.pydata.org),\n",
    "[Datashader](http://datashader.org),and \n",
    "[Param](http://param.pyviz.org):\n",
    "\n",
    "<img height=\"148\" width=\"800\" src=\"../assets/pn_hv_gv_bk_ds_pa.png\"/>\n",
    "\n",
    "These libraries have been carefully designed to work together to address a very wide range of data-analysis and visualization tasks, making it simple to discover, understand, and communicate the important properties of your data.\n",
    "\n",
    "<img align=\"center\" src=\"../assets/earthquakes.png\"></img>\n",
    "\n",
    "This notebook serves as the homepage of the tutorial, including a table of contents listing each tutorial section."
   ]
  },
  {
   "cell_type": "markdown",
   "metadata": {},
   "source": [
    "## Index and Schedule\n",
    "\n",
    "- *Overview of the tutorial/setup*\n",
    "   * **5 min** &nbsp;[Setup](./00_Setup.ipynb): Setting up the environment and data files.\n",
    "   * **15 min** &nbsp;[HoloViz Overview](./01_Overview.ipynb): Overview of the main HoloViz tools.\n",
    "\n",
    "\n",
    "- *Building Dashboards using Panel*\n",
    "   * **20 min** &nbsp;[Introduction to Panel](./02_Introduction_to_Panel.ipynb): Demonstrating non-plotting types, panes and how to create simple dashboards from composable bits.\n",
    "   * **5 min** &nbsp;[*Exercise 1*](./exercises/Building_a_Dashboard.ipynb#Exercise-1): Using a mix of visualizable types (including plots in some library if you want), create a panel layout and serve it with `serveable`.\n",
    "   * **10 min** &nbsp;[Panel_Widgets](./03_Panel_Widgets.ipynb): Introducing `@depends` to generated widgets that increase the explorability of your data.\n",
    "   * **5 min** &nbsp;[*Exercise 2*](./exercises/Building_a_Dashboard.ipynb#Exercise-2): Add widgets to control the dashboard.\n",
    "   * **10 min** &nbsp;*Break*\n",
    "   \n",
    "   \n",
    "- *The `.plot` API: a data-centric approach to visualization*   \n",
    "   * **30 min** &nbsp;[Introduction to .plot](./04_Using_.plot.ipynb): Quick intro to the `.plot` interface.\n",
    "   * **10 min** &nbsp;[*Exercise 3*](./exercises/Building_a_Dashboard.ipynb#Exercise-3): Add some visualizations via the `.plot` API to the dashboard.\n",
    "   * **10 min** &nbsp;[Composing HoloViews Plots](./05_Composing_Holoviews_Plots.ipynb): Layering and grouping outputs from `.hvplot()` to add depth to data exploration.\n",
    "   * **10 min** &nbsp;*Break*\n",
    "   \n",
    "   \n",
    "- *Building custom interactivity*\n",
    "   * **25 min** &nbsp;[Custom Interactivity](./06_Custom_Interactivity.ipynb): Using HoloViews \"streams\" to add interactivity to your visualizations.\n",
    "   * **10 min** &nbsp;[*Exercise 4*](./exercises/Building_a_Dashboard.ipynb#Exercise-4): Add a linked visualization with holoviews.\n",
    "\n",
    "\n",
    "- *Working with large datasets*\n",
    "   * **20 min** &nbsp;[Working with Large Datasets](./07_Working_with_Large_Datasets.ipynb): Introduction to how datashader works\n",
    "   * **10 min** &nbsp;[*Exercise 5*](./exercises/Building_a_Dashboard.ipynb#Exercise-5): Add a datashaded visualization to the dashboard.\n",
    "   * **10 min** &nbsp;*Break*\n",
    "\n",
    "\n",
    "- *Building advanced dashboards*\n",
    "   * **15 min** &nbsp;[Building Advanced Dashboards](./08_Building_Advanced_Dashboards.ipynb): How to use Panel to create an advanced dashboard with linked holoviews plots and streams.\n",
    "   * **10 min** &nbsp;[*Exercise 6*](./exercises/Building_a_Dashboard.ipynb#Exercise-6): Build a dashboard consisting of 1) a plot using any library of choice showing some statistical aggregate of the large data. A datashader component showing the full dataset. A custom interactivity component (e.g reusing the linked visualization exercise above?)\n",
    "   * **10 min** &nbsp;[*Exercise 7*](./exercises/Building_a_Dashboard.ipynb#Exercise-7): Build an efficient, compositional dashboard where data and plots are re-computed/redrawn as necessary. Concepts from the generalized datashader dashboard."
   ]
  },
  {
   "cell_type": "markdown",
   "metadata": {},
   "source": [
    "## Related links\n",
    "\n",
    "You will find extensive support material on the websites for each package. You may find these links particularly useful during the tutorial:\n",
    "\n",
    "* [HoloViews reference gallery](http://holoviews.org/reference/index.html): Visual reference of all elements and containers, along with some other components\n",
    "* [HoloViews getting-started guide](http://holoviews.org/getting_started/index.html): Covers some of the same topics as this tutorial, but without exercises\n",
    "* [Panel reference gallery](http://panel.pyviz.org/reference/index.html): Visual reference of all panes, layouts and widgets."
   ]
  },
  {
   "cell_type": "code",
   "execution_count": null,
   "metadata": {},
   "outputs": [],
   "source": []
  }
 ],
 "metadata": {
  "language_info": {
   "name": "python",
   "pygments_lexer": "ipython3"
  }
 },
 "nbformat": 4,
 "nbformat_minor": 2
}
