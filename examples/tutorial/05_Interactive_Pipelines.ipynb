{
 "cells": [
  {
   "cell_type": "markdown",
   "id": "05ba9a0d",
   "metadata": {},
   "source": [
    "<style>div.container { width: 100% }</style>\n",
    "<img style=\"float:left;  vertical-align:text-bottom;\" height=\"65\" width=\"172\" src=\"../assets/holoviz-logo-unstacked.svg\" />\n",
    "<div style=\"float:right; vertical-align:text-bottom;\"><h2>Tutorial 5. Interactive Pipelines</h2></div>"
   ]
  },
  {
   "cell_type": "code",
   "execution_count": null,
   "id": "1a72c6ff",
   "metadata": {},
   "outputs": [],
   "source": [
    "import holoviews as hv\n",
    "import numpy as np\n",
    "import pandas as pd\n",
    "import panel as pn\n",
    "\n",
    "pn.extension('tabulator', template='material')\n",
    "\n",
    "pn.state.template.sidebar_width = 250\n",
    "pn.config.sizing_mode = 'stretch_width'\n",
    "\n",
    "import hvplot.pandas"
   ]
  },
  {
   "cell_type": "markdown",
   "id": "c3e5e0e5",
   "metadata": {},
   "source": [
    "## Panel widgets\n",
    "\n",
    "In this notebook, we will want to drive our visualizations with interactive widgets. For this, we will need a widget library where we will be using [panel](https://panel.holoviz.org/).\n",
    "\n",
    "### Float slider\n",
    "\n",
    "For instance, let us create a float slider to specify an earthquake magnitude between zero and nine:"
   ]
  },
  {
   "cell_type": "code",
   "execution_count": null,
   "id": "020fe19c",
   "metadata": {},
   "outputs": [],
   "source": [
    "mag_slider = pn.widgets.FloatSlider(name='Magnitude', start=0, end=9, value=6)\n",
    "mag_slider"
   ]
  },
  {
   "cell_type": "markdown",
   "id": "8f56ce75",
   "metadata": {},
   "source": [
    "We can get the value of this slider from the `.value` parameter:"
   ]
  },
  {
   "cell_type": "code",
   "execution_count": null,
   "id": "83bd811a",
   "metadata": {},
   "outputs": [],
   "source": [
    "mag_slider.value"
   ]
  },
  {
   "cell_type": "markdown",
   "id": "5e6ee954",
   "metadata": {},
   "source": [
    "Try moving the slider around and rerunning the cell above to access the current slider value.\n",
    "\n",
    "## Date range slider\n",
    "\n",
    "Panel has many different widgets and you can see a reference gallery of them [here](https://panel.holoviz.org/reference/index.html#widgets). Let's now make a widget to specify a date range:"
   ]
  },
  {
   "cell_type": "code",
   "execution_count": null,
   "id": "791b693b",
   "metadata": {},
   "outputs": [],
   "source": [
    "date_range = pn.widgets.DateRangeSlider(name='Date', \n",
    "                                        start=pd.Timestamp('2000-01-31'), \n",
    "                                        end=pd.Timestamp('2018-12-01'))\n",
    "date_range"
   ]
  },
  {
   "cell_type": "markdown",
   "id": "4784a513",
   "metadata": {},
   "source": [
    "Now we can see the value of this slider:"
   ]
  },
  {
   "cell_type": "code",
   "execution_count": null,
   "id": "13f5e504",
   "metadata": {},
   "outputs": [],
   "source": [
    "date_range.value"
   ]
  },
  {
   "cell_type": "markdown",
   "id": "973cca79",
   "metadata": {},
   "source": [
    "As it is a range, this time you get a tuple. You can get the components of the start and end with `value_start` and `value_end` respectively:"
   ]
  },
  {
   "cell_type": "code",
   "execution_count": null,
   "id": "15a372b7",
   "metadata": {},
   "outputs": [],
   "source": [
    "f'Start is at {date_range.value_start} and the end is at {date_range.value_end}'"
   ]
  },
  {
   "cell_type": "markdown",
   "id": "7cb24669",
   "metadata": {},
   "source": [
    "Again try specifying different ranges with the widgets and rerunning the cell above."
   ]
  },
  {
   "cell_type": "markdown",
   "id": "86683aad",
   "metadata": {},
   "source": [
    "## The `.interactive` interface\n",
    "\n",
    "To use the .`interactive` interface from `hvplot`, first we load our earthquake data as before:"
   ]
  },
  {
   "cell_type": "code",
   "execution_count": null,
   "id": "70701009",
   "metadata": {},
   "outputs": [],
   "source": [
    "df = pd.read_parquet('../data/earthquakes.parq')\n",
    "df = df.set_index('time').tz_convert(None).reset_index()\n",
    "df.head(n=3)"
   ]
  },
  {
   "cell_type": "markdown",
   "id": "8ae24eb7",
   "metadata": {},
   "source": [
    "After importing `hvplot.pandas`, we now have an `.interactive` method on our `DataFrame`, allowing us to create an *interactive* `Dataframe`. Here we specify a `sizing_mode` to control how our visualizations will look:"
   ]
  },
  {
   "cell_type": "code",
   "execution_count": null,
   "id": "67e9ff8a",
   "metadata": {},
   "outputs": [],
   "source": [
    "dfi = df.interactive(sizing_mode='stretch_width')\n",
    "print(dfi) # TODO: hangs without print"
   ]
  },
  {
   "cell_type": "markdown",
   "id": "ecef453e",
   "metadata": {},
   "source": [
    "This behaves just like a regular `DataFrame` except now you can pass panel *widgets* as arguments to the pandas methods you are familiar with. Let us make the same magnitude and date range widgets where the only difference is that the start and end dates can now be constrained by the data:"
   ]
  },
  {
   "cell_type": "code",
   "execution_count": null,
   "id": "db7fc71b",
   "metadata": {},
   "outputs": [],
   "source": [
    "mag = pn.widgets.FloatSlider(name='Magnitude', start=0, end=9, value=6)  # MINIMUM MAGNITUDE\n",
    "date = pn.widgets.DateRangeSlider(name='Date', start=df.time.iloc[0], end=df.time.iloc[-1])"
   ]
  },
  {
   "cell_type": "markdown",
   "id": "d20abd48",
   "metadata": {},
   "source": [
    "Now we can pass these widgets to a simple filtering function where we filter a pandas `DataFrame` in the standard way. The only difference is that now we can refer to the parameter values of our widgets instead of only specifying literal values. You can refer to the `value`, `value_start` and `value_end` parameters of the widgets with `param.value`, `param.value_start` and `param.value_end` respectively:"
   ]
  },
  {
   "cell_type": "code",
   "execution_count": null,
   "id": "dce9ff9d",
   "metadata": {},
   "outputs": [],
   "source": [
    "filtered = dfi[\n",
    "    (dfi['mag']   > mag) &\n",
    "    (dfi['time'] >= date.param.value_start) &\n",
    "    (dfi['time'] <= date.param.value_end)\n",
    "]\n",
    "\n",
    "filtered.head()"
   ]
  },
  {
   "cell_type": "markdown",
   "id": "3746a6eb",
   "metadata": {},
   "source": [
    "Now we have a pandas `DataFrame` but on top we also have the two widgets we declared. When the widgets are interacted with, the `DataFrame` updates.\n",
    "\n",
    "*Note that to see the table update, you want to move the start date of the range slider. Otherwise, you won't see much change as the earthquakes are shown ordered by date.*\n",
    "\n",
    "For the magnitude, we can just specify `mag` as the `value` parameter is used by default when a widget is supplied. You can of course use, `mag.param.value` instead if you wish. Try it!"
   ]
  },
  {
   "cell_type": "markdown",
   "id": "8f0644ad",
   "metadata": {},
   "source": [
    "## Plotting with `.interactive`\n",
    "\n",
    "All pandas methods can be made interactive this way, including the built in `.plot` method using matplotlib:"
   ]
  },
  {
   "cell_type": "code",
   "execution_count": null,
   "id": "a2deb3da",
   "metadata": {},
   "outputs": [],
   "source": [
    "filtered.plot(y='depth', kind='hist', bins=np.linspace(0, 50, 51))"
   ]
  },
  {
   "cell_type": "markdown",
   "id": "0612260d",
   "metadata": {},
   "source": [
    "# TODO:"
   ]
  },
  {
   "cell_type": "code",
   "execution_count": null,
   "id": "0fc9230a",
   "metadata": {},
   "outputs": [],
   "source": [
    "mag_hist = filtered.hvplot(\n",
    "    y='mag', kind='hist', responsive=True, min_height=200\n",
    ")\n",
    "\n",
    "depth_hist = filtered.hvplot(\n",
    "    y='depth', kind='hist', responsive=True, min_height=200\n",
    ")\n",
    "\n",
    "mag_hist + depth_hist"
   ]
  }
 ],
 "metadata": {
  "kernelspec": {
   "display_name": "Python 3",
   "language": "python",
   "name": "python3"
  },
  "language_info": {
   "codemirror_mode": {
    "name": "ipython",
    "version": 3
   },
   "file_extension": ".py",
   "mimetype": "text/x-python",
   "name": "python",
   "nbconvert_exporter": "python",
   "pygments_lexer": "ipython3",
   "version": "3.8.10"
  }
 },
 "nbformat": 4,
 "nbformat_minor": 5
}
