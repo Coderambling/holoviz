{
 "cells": [
  {
   "cell_type": "markdown",
   "id": "05ba9a0d",
   "metadata": {},
   "source": [
    "<style>div.container { width: 100% }</style>\n",
    "<img style=\"float:left;  vertical-align:text-bottom;\" height=\"65\" width=\"172\" src=\"../assets/holoviz-logo-unstacked.svg\" />\n",
    "<div style=\"float:right; vertical-align:text-bottom;\"><h2>Tutorial 5. Interactive Pipelines</h2></div>"
   ]
  },
  {
   "cell_type": "code",
   "execution_count": null,
   "id": "1a72c6ff",
   "metadata": {},
   "outputs": [],
   "source": [
    "import numpy as np\n",
    "import pandas as pd\n",
    "import panel as pn\n",
    "import holoviews as hv\n",
    "from datashader.utils import lnglat_to_meters\n",
    "\n",
    "pn.extension('tabulator', template='material')\n",
    "\n",
    "pn.state.template.sidebar_width = 250\n",
    "pn.config.sizing_mode = 'stretch_width'\n",
    "\n",
    "import hvplot.pandas # noqa"
   ]
  },
  {
   "cell_type": "markdown",
   "id": "c3e5e0e5",
   "metadata": {},
   "source": [
    "## Panel widgets\n",
    "\n",
    "In this notebook, we will want to drive our visualizations with interactive widgets. For this, we will need a widget library where we will be using the [panel](https://panel.holoviz.org/) library.\n",
    "\n",
    "### Float slider\n",
    "\n",
    "For instance, let us create a float slider to specify an earthquake magnitude between zero and nine:"
   ]
  },
  {
   "cell_type": "code",
   "execution_count": null,
   "id": "020fe19c",
   "metadata": {},
   "outputs": [],
   "source": [
    "mag_slider = pn.widgets.FloatSlider(name='Magnitude', start=0, end=9, value=6)\n",
    "mag_slider"
   ]
  },
  {
   "cell_type": "markdown",
   "id": "8f56ce75",
   "metadata": {},
   "source": [
    "We can get the value of this slider from the `.value` parameter:"
   ]
  },
  {
   "cell_type": "code",
   "execution_count": null,
   "id": "83bd811a",
   "metadata": {},
   "outputs": [],
   "source": [
    "mag_slider.value"
   ]
  },
  {
   "cell_type": "markdown",
   "id": "5e6ee954",
   "metadata": {},
   "source": [
    "Try moving the slider around and rerunning the cell above to access the current slider value.\n",
    "\n",
    "## Date range slider\n",
    "\n",
    "Panel has many different widgets and you can see a reference gallery of them [here](https://panel.holoviz.org/reference/index.html#widgets). Let's now make a widget to specify a date range:"
   ]
  },
  {
   "cell_type": "code",
   "execution_count": null,
   "id": "791b693b",
   "metadata": {},
   "outputs": [],
   "source": [
    "date_range = pn.widgets.DateRangeSlider(name='Date', \n",
    "                                        start=pd.Timestamp('2000-01-31'), \n",
    "                                        end=pd.Timestamp('2018-12-01'))\n",
    "date_range"
   ]
  },
  {
   "cell_type": "markdown",
   "id": "4784a513",
   "metadata": {},
   "source": [
    "Now we can access the value of this slider:"
   ]
  },
  {
   "cell_type": "code",
   "execution_count": null,
   "id": "13f5e504",
   "metadata": {},
   "outputs": [],
   "source": [
    "date_range.value"
   ]
  },
  {
   "cell_type": "markdown",
   "id": "973cca79",
   "metadata": {},
   "source": [
    "As this widget is specifying a range, this time the value is specified as a tuple. You can get the components of the tuple directly via the `value_start` and `value_end` parameters respectively:"
   ]
  },
  {
   "cell_type": "code",
   "execution_count": null,
   "id": "15a372b7",
   "metadata": {},
   "outputs": [],
   "source": [
    "f'Start is at {date_range.value_start} and the end is at {date_range.value_end}'"
   ]
  },
  {
   "cell_type": "markdown",
   "id": "7cb24669",
   "metadata": {},
   "source": [
    "Once again, try specifying different ranges with the widgets and rerunning the cell above."
   ]
  },
  {
   "cell_type": "markdown",
   "id": "86683aad",
   "metadata": {},
   "source": [
    "## The `.interactive` interface\n",
    "\n",
    "To use the .`interactive` interface from `hvplot`, first we need a `DataFrame` which we load from our earthquake data as before:"
   ]
  },
  {
   "cell_type": "code",
   "execution_count": null,
   "id": "70701009",
   "metadata": {},
   "outputs": [],
   "source": [
    "df = pd.read_parquet('../data/earthquakes.parq')\n",
    "df = df.set_index('time').tz_convert(None).reset_index()\n",
    "df.head(n=3)"
   ]
  },
  {
   "cell_type": "markdown",
   "id": "8ae24eb7",
   "metadata": {},
   "source": [
    "After importing `hvplot.pandas`, we now have an `.interactive` method on our `DataFrame` in addition to the `.hvplot` method which allowing us to create an *interactive* `Dataframe`. Here we create an interactive dataframe, specify a `sizing_mode` to control how our visualizations will look later:"
   ]
  },
  {
   "cell_type": "code",
   "execution_count": null,
   "id": "67e9ff8a",
   "metadata": {},
   "outputs": [],
   "source": [
    "dfi = df.interactive(sizing_mode='stretch_width')\n",
    "print(dfi) # TODO: hangs without print"
   ]
  },
  {
   "cell_type": "markdown",
   "id": "ecef453e",
   "metadata": {},
   "source": [
    "This behaves just like a regular `DataFrame` except now you can pass panel *widgets* as arguments to the pandas methods you are familiar with. Let us make the same magnitude and date range widgets as before, where the only difference now is that the start and end dates can now be constrained by the minumum and maximum date found in the data:"
   ]
  },
  {
   "cell_type": "code",
   "execution_count": null,
   "id": "db7fc71b",
   "metadata": {},
   "outputs": [],
   "source": [
    "min_mag = pn.widgets.FloatSlider(name='Magnitude', start=0, end=9, value=6)\n",
    "date = pn.widgets.DateRangeSlider(name='Date', start=df.time.iloc[0], end=df.time.iloc[-1])"
   ]
  },
  {
   "cell_type": "markdown",
   "id": "d20abd48",
   "metadata": {},
   "source": [
    "Now we can filter this pandas `DataFrame` in the standard way but instead of only being able to specify literal values, we can now refer to the parameter values of the widgets. Interacting with the slider then updates the expression, rerunning the pipeline of operations (here a simple filter).\n",
    "\n",
    "This filter is a regular pandas mask expression that filters out earthquakes to find those greater than the minimum magnitude value that occur after the start date and before end date. Note that you can refer to the `value`, `value_start` and `value_end` parameters of the widgets with `param.value`, `param.value_start` and `param.value_end` respectively:"
   ]
  },
  {
   "cell_type": "code",
   "execution_count": null,
   "id": "dce9ff9d",
   "metadata": {},
   "outputs": [],
   "source": [
    "chosen_columns = ['time', 'mag', 'depth', 'latitude', 'longitude', 'place', 'type']\n",
    "\n",
    "filtered = dfi[\n",
    "    (dfi['mag']   > min_mag) &\n",
    "    (dfi['time'] >= date.param.value_start) &\n",
    "    (dfi['time'] <= date.param.value_end)\n",
    "]\n",
    "\n",
    "filtered[chosen_columns].head()"
   ]
  },
  {
   "cell_type": "markdown",
   "id": "3746a6eb",
   "metadata": {},
   "source": [
    "We now have a view of a pandas `DataFrame` but above the table, we see the two widgets that were declared. When the widgets are interacted with, the `DataFrame` uses the widget values to filter the data, selects the chosen columns and displays the result.\n",
    "\n",
    "*Note that to see the table update, you want to move the start date of the range slider: otherwise, you may not see the table change as the earthquakes are displayed in date order.*"
   ]
  },
  {
   "cell_type": "markdown",
   "id": "a33d9d52",
   "metadata": {},
   "source": [
    "#### Exercise\n",
    "\n",
    "To specify the minimum earthquake magnitude, we can just specify the `mag` widget as the `value` parameter of this widget is used by default. To be explicit, you may use `mag.param.value` instead if you wish. Try it!"
   ]
  },
  {
   "cell_type": "markdown",
   "id": "4edb8b56",
   "metadata": {},
   "source": [
    "#### Exercise\n",
    "\n",
    "For readability, seven columns were chosen before displaying the `DataFrame`. Have a look at `df.columns` and pick a different set of columns for display."
   ]
  },
  {
   "cell_type": "markdown",
   "id": "c564d18b",
   "metadata": {},
   "source": [
    "## Plotting with `.interactive`\n",
    "\n",
    "All pandas methods can be made interactive this way, including the built in `.plot` method that uses matplotlib (note, this isn't `.hvplot`!):"
   ]
  },
  {
   "cell_type": "code",
   "execution_count": null,
   "id": "a2deb3da",
   "metadata": {},
   "outputs": [],
   "source": [
    "filtered.plot(y='depth', kind='hist', bins=np.linspace(0, 50, 51))"
   ]
  },
  {
   "cell_type": "markdown",
   "id": "322af90c",
   "metadata": {},
   "source": [
    "That said, given that `.hvplot` is available, we can use it to benefit from the interactive features offered by Bokeh as well as the compositionality offered by the HoloViews `+` operator:"
   ]
  },
  {
   "cell_type": "code",
   "execution_count": null,
   "id": "d869899d",
   "metadata": {},
   "outputs": [],
   "source": [
    "mag_hist = filtered.hvplot(\n",
    "    y='mag', kind='hist', responsive=True, min_height=200\n",
    ")\n",
    "\n",
    "depth_hist = filtered.hvplot(\n",
    "    y='depth', kind='hist', responsive=True, min_height=200\n",
    ")\n",
    "\n",
    "mag_hist + depth_hist"
   ]
  },
  {
   "cell_type": "markdown",
   "id": "822ea345",
   "metadata": {},
   "source": [
    "These are the same two histograms we saw earlier, expect now we can filter using the Panel widgets.\n",
    "\n",
    "## Filtering the earthquakes on a map\n",
    "\n",
    "To display the earthquakes on a map, we will need to work with a new dataframe that has more columns but fewer rows. As in the previous notebooks, we need to project to get `easting` and `northing` so we can overlay our earthquake points on a map. In addition, we will filter down to one year's worth of earthquakes in 2017 (with magnitude `>4`) so that Bokeh can plot all the earthquakes quickly enough:\n"
   ]
  },
  {
   "cell_type": "code",
   "execution_count": null,
   "id": "1217546e",
   "metadata": {},
   "outputs": [],
   "source": [
    "subset_df = df[\n",
    "            (df['mag']   > 4) &\n",
    "            (df['time'] >= pd.Timestamp('2017-01-01')) &\n",
    "            (df['time'] <= pd.Timestamp('2018-01-01'))\n",
    "]\n",
    "\n",
    "x, y = lnglat_to_meters(subset_df['longitude'], subset_df['latitude'])\n",
    "subset_projected = subset_df.join([pd.DataFrame({'easting': x}), pd.DataFrame({'northing': y})])"
   ]
  },
  {
   "cell_type": "markdown",
   "id": "6bf3f28d",
   "metadata": {},
   "source": [
    "Now we can make a new interactive `DataFrame` from this new subselection:"
   ]
  },
  {
   "cell_type": "code",
   "execution_count": null,
   "id": "4f7375ef",
   "metadata": {},
   "outputs": [],
   "source": [
    "subset_dfi = subset_projected.interactive(sizing_mode='stretch_width')"
   ]
  },
  {
   "cell_type": "markdown",
   "id": "441f8751",
   "metadata": {},
   "source": [
    "And now we can declare our widgets and use them to filter the interactive `DataFrame` as before:"
   ]
  },
  {
   "cell_type": "code",
   "execution_count": null,
   "id": "58f3a449",
   "metadata": {},
   "outputs": [],
   "source": [
    "date_subrange = pn.widgets.DateRangeSlider(name='Date', \n",
    "                                        start=subset_df.time.iloc[0], \n",
    "                                        end=subset_df.time.iloc[-1])\n",
    "mag_subrange = pn.widgets.FloatSlider(name='Magnitude', start=3, end=9, value=3)\n",
    "\n",
    "filtered_subrange = subset_dfi[\n",
    "    (subset_dfi['mag']   > mag_subrange) &\n",
    "    (subset_dfi['time'] >= date_subrange.param.value_start) &\n",
    "    (subset_dfi['time'] <= date_subrange.param.value_end)\n",
    "]"
   ]
  },
  {
   "cell_type": "markdown",
   "id": "04a49190",
   "metadata": {},
   "source": [
    "Now we can plot the earthquakes on an ESRI tilesource, including the filtering widgets as follows:"
   ]
  },
  {
   "cell_type": "code",
   "execution_count": null,
   "id": "be7b740c",
   "metadata": {},
   "outputs": [],
   "source": [
    "geo = filtered_subrange.hvplot(\n",
    "    'easting', 'northing', color='mag', kind='points',\n",
    "    xaxis=None, yaxis=None, responsive=True, min_height=500, tiles='ESRI'\n",
    ")\n",
    "\n",
    "geo"
   ]
  },
  {
   "cell_type": "markdown",
   "id": "105d1127",
   "metadata": {},
   "source": [
    "## Terminating methods for `.interactive`\n",
    "\n",
    "We can create our magnitude and depth histograms one this subset of the data as before:"
   ]
  },
  {
   "cell_type": "code",
   "execution_count": null,
   "id": "bb12c040",
   "metadata": {},
   "outputs": [],
   "source": [
    "mag_subhist = filtered_subrange.hvplot(\n",
    "    y='mag', kind='hist', responsive=True, min_height=200\n",
    ")\n",
    "\n",
    "depth_subhist = filtered_subrange.hvplot(\n",
    "    y='depth', kind='hist', responsive=True, min_height=200\n",
    ")\n",
    "\n",
    "combined = mag_subhist + depth_subhist\n",
    "combined"
   ]
  },
  {
   "cell_type": "markdown",
   "id": "f42ec6b1",
   "metadata": {},
   "source": [
    "Note that this looks like a HoloViews layout with some widgets, but this object is *not* a HoloViews object. Instead it is still an `Interative` object:"
   ]
  },
  {
   "cell_type": "code",
   "execution_count": null,
   "id": "c8bc782b",
   "metadata": {},
   "outputs": [],
   "source": [
    "type(combined)"
   ]
  },
  {
   "cell_type": "markdown",
   "id": "08f00004",
   "metadata": {},
   "source": [
    "If we need a HoloViews `Layout`,  we can build one from the consistuent objects using the `.holoviews()` terminating method on `Interactive`:"
   ]
  },
  {
   "cell_type": "code",
   "execution_count": null,
   "id": "ac6a94f3",
   "metadata": {},
   "outputs": [],
   "source": [
    "layout = mag_subhist.holoviews() + depth_subhist.holoviews()\n",
    "layout"
   ]
  },
  {
   "cell_type": "markdown",
   "id": "113fd028",
   "metadata": {},
   "source": [
    "This is now a HoloViews object:"
   ]
  },
  {
   "cell_type": "code",
   "execution_count": null,
   "id": "bdd23859",
   "metadata": {},
   "outputs": [],
   "source": [
    "type(layout)"
   ]
  },
  {
   "cell_type": "markdown",
   "id": "43b03a3d",
   "metadata": {},
   "source": [
    "One reason we might want to access the HoloViews objects is to build linked selections from our interactive `DataFrame`:"
   ]
  },
  {
   "cell_type": "code",
   "execution_count": null,
   "id": "5db4dfa2",
   "metadata": {},
   "outputs": [],
   "source": [
    "ls = hv.link_selections.instance()\n",
    "ls(mag_subhist.holoviews()) + ls(depth_subhist.holoviews())"
   ]
  },
  {
   "cell_type": "markdown",
   "id": "f3975a35",
   "metadata": {},
   "source": [
    "We will see how to retain the sliders together with the linked selections in the [Dashboards notebook](./07_Dashboards.ipynb).\n",
    "\n",
    "For reference, the terminating methods for an `Interactive` object are:\n",
    "\n",
    "- `.holoviews()`: Give me a HoloViews objects\n",
    "- `.panel()`:     Give me a Panel ParamFunction\n",
    "\n",
    "- `.widgets()`:   Give me a layout of widgets associated with this interactive object\n",
    "- `.layout()`:    Give me the layout of the widgets and display `pn.Column(obj.widgets(), obj.panel())` where `pn.Column` will be described in the [Dashboards notebook](./07_Dashboards.ipynb).\n",
    "\n",
    "## Conclusion\n",
    "\n",
    "The `.interactive` method allows you to build pipelines that appear as interactive visualizations with widgets where the widgets are supplied by Panel."
   ]
  }
 ],
 "metadata": {
  "kernelspec": {
   "display_name": "Python 3",
   "language": "python",
   "name": "python3"
  },
  "language_info": {
   "codemirror_mode": {
    "name": "ipython",
    "version": 3
   },
   "file_extension": ".py",
   "mimetype": "text/x-python",
   "name": "python",
   "nbconvert_exporter": "python",
   "pygments_lexer": "ipython3",
   "version": "3.8.10"
  }
 },
 "nbformat": 4,
 "nbformat_minor": 5
}
