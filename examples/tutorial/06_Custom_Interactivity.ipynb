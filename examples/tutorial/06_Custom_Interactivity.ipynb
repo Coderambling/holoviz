{
 "cells": [
  {
   "cell_type": "markdown",
   "metadata": {},
   "source": [
    "<style>div.container { width: 100% }</style>\n",
    "<img style=\"float:left;  vertical-align:text-bottom;\" height=\"65\" width=\"172\" src=\"../assets/holoviz-logo-unstacked.svg\" />\n",
    "<div style=\"float:right; vertical-align:text-bottom;\"><h2>Tutorial 6. Custom Interactivity</h2></div>"
   ]
  },
  {
   "cell_type": "markdown",
   "metadata": {},
   "source": [
    "<div class=\"alert alert-warning\" role=\"alert\"> <strong>WORK IN PROGRESS:</strong> We are in the progress of updating these materials in anticipation of a tutorial at the 2019 SciPy conference. Work will be complete by the morning of July 8th 2019. Check out <a href=\"https://github.com/pyviz/holoviz/tree/v0.1.1\">this tag</a> to access the materials as they were before these changes started. For the latest version of the tutorial, visit <a href=\"https://holoviz.org/tutorial\">holoviz.org</a>.\n",
    "</div>"
   ]
  },
  {
   "cell_type": "markdown",
   "metadata": {},
   "source": [
    "Using hvplot allows you to generate a number of different types of plot\n",
    "quickly by building [HoloViews](https://holoviews.org) objects as discussed in the previous\n",
    "notebook. These objects are rendered with Bokeh which offers a number of\n",
    "standard ways to interact with your plot, such as panning and zooming\n",
    "tools.\n",
    "\n",
    "Many other modes of interactivity are possible when building an\n",
    "exploratory visualization (such as a dashboard) and these forms of\n",
    "interactivity cannot be achieved using hvplot alone.\n",
    "\n",
    "In this notebook, we will drop down to the HoloViews level of\n",
    "representation to build a visualization consisting of linked plots that\n",
    "update when you interactivity select a particular earthquake with the\n",
    "mouse. The goal is to show how more sophisticated forms or interactivity\n",
    "can be introduced in the spirit of \"shortcuts\" not \"dead ends\"."
   ]
  },
  {
   "cell_type": "markdown",
   "metadata": {},
   "source": [
    "First let us load our initial imports:"
   ]
  },
  {
   "cell_type": "code",
   "execution_count": null,
   "metadata": {},
   "outputs": [],
   "source": [
    "import numpy as np\n",
    "import dask.dataframe as dd\n",
    "import hvplot.pandas  # noqa\n"
   ]
  },
  {
   "cell_type": "markdown",
   "metadata": {},
   "source": [
    "And clean the data as before:"
   ]
  },
  {
   "cell_type": "code",
   "execution_count": null,
   "metadata": {},
   "outputs": [],
   "source": [
    "df = dd.read_parquet('../data/earthquakes.parq')\n",
    "cleaned_df = df.copy()\n",
    "cleaned_df['mag'] = df.mag.where(df.mag > 0)\n",
    "cleaned_reindexed_df = cleaned_df.set_index(cleaned_df.time)\n",
    "cleaned_reindexed_df = cleaned_reindexed_df.persist()\n"
   ]
  },
  {
   "cell_type": "markdown",
   "metadata": {},
   "source": [
    "In the previous notebook we generated a scatter plot of earthquakes\n",
    "across the earth that had a magnitude `>7`:"
   ]
  },
  {
   "cell_type": "code",
   "execution_count": null,
   "metadata": {},
   "outputs": [],
   "source": [
    "most_severe = df[df.mag >= 7].compute()\n",
    "high_mag_scatter = most_severe.hvplot.scatter(x='longitude', y='latitude', c='mag')\n",
    "high_mag_scatter\n"
   ]
  },
  {
   "cell_type": "markdown",
   "metadata": {},
   "source": [
    "And saw how this object is a HoloViews `Scatter` object:"
   ]
  },
  {
   "cell_type": "code",
   "execution_count": null,
   "metadata": {},
   "outputs": [],
   "source": [
    "print(high_mag_scatter)\n"
   ]
  },
  {
   "cell_type": "markdown",
   "metadata": {},
   "source": [
    "This object is an example of a HoloViews *Element*"
   ]
  },
  {
   "cell_type": "markdown",
   "metadata": {},
   "source": [
    "### HoloViews Elements\n",
    "\n",
    "HoloViews elements are the atomic, visualizable components that can be\n",
    "rendered by a plotting library such as Bokeh. We don't need to use\n",
    "hvplot to create these element objects: we can create them directly by\n",
    "importing HoloViews (and loading the extension if we have not loaded\n",
    "hvplot):"
   ]
  },
  {
   "cell_type": "code",
   "execution_count": null,
   "metadata": {},
   "outputs": [],
   "source": [
    "import holoviews as hv\n",
    "hv.extension(\"bokeh\") # Optional here as we have already loaded hvplot.pandas\n"
   ]
  },
  {
   "cell_type": "markdown",
   "metadata": {},
   "source": [
    "Now we can create our own example of a `Scatter` element. In the next\n",
    "cell we plot 100 points with a normal (independent) distrbutions in the\n",
    "`x` and `y` directions:"
   ]
  },
  {
   "cell_type": "code",
   "execution_count": null,
   "metadata": {},
   "outputs": [],
   "source": [
    "xs = np.random.randn(100)\n",
    "ys = np.random.randn(100)\n",
    "hv.Scatter((xs, ys))\n"
   ]
  },
  {
   "cell_type": "markdown",
   "metadata": {},
   "source": [
    "Now that the axis labels are 'x' and 'y', the default *dimensions* for\n",
    "this element type. We can use a different set of dimensions, say\n",
    "'weight' and 'height' if we wish:"
   ]
  },
  {
   "cell_type": "code",
   "execution_count": null,
   "metadata": {},
   "outputs": [],
   "source": [
    "xs = np.random.randn(100)\n",
    "ys = np.random.randn(100)\n",
    "height_v_weight = hv.Scatter((xs, ys), 'weight', 'height')\n",
    "height_v_weight"
   ]
  },
  {
   "cell_type": "markdown",
   "metadata": {},
   "source": [
    "For more information an HoloViews dimensions, see this [user guide](http://holoviews.org/user_guide/Annotating_Data.html)."
   ]
  },
  {
   "cell_type": "code",
   "execution_count": null,
   "metadata": {},
   "outputs": [],
   "source": [
    "### Exercise: Visit http://holoviews.org/reference/index.html and browse\n",
    "### the available set of elements. Pick an element type and try running\n",
    "### one of the self-contained examples in this cell.\n"
   ]
  },
  {
   "cell_type": "markdown",
   "metadata": {},
   "source": [
    "### Help and Options\n",
    "\n",
    "The two `Scatter` elements above look quite different from the one\n",
    "returned by hvplot showing the earthquake positions. This is because\n",
    "hvplot makes use of the HoloViews *options system* to customize the\n",
    "visual representation of these element objects.\n",
    "\n",
    "Let us make the `height_v_weight` scatter above green with larger\n",
    "points:"
   ]
  },
  {
   "cell_type": "code",
   "execution_count": null,
   "metadata": {},
   "outputs": [],
   "source": [
    "height_v_weight.opts(color='green', size=8)\n"
   ]
  },
  {
   "cell_type": "markdown",
   "metadata": {},
   "source": [
    "You can learn more about the `.opts` method and the HoloViews options\n",
    "system in the [corresponding user\n",
    "guide](http://holoviews.org/user_guide/Applying_Customizations.html). To\n",
    "easily learn about the available options from inside a notebook, you can\n",
    "use `hv.help` and inspect the 'Style Options'."
   ]
  },
  {
   "cell_type": "code",
   "execution_count": null,
   "metadata": {},
   "outputs": [],
   "source": [
    "### Exercise: Uncomment the line below and run this cell. Try inspecting\n",
    "### the output for different element types.\n",
    "# hv.help(hv.Scatter)\n",
    "\n"
   ]
  },
  {
   "cell_type": "markdown",
   "metadata": {},
   "source": [
    "At this point, we can have some insight to the sort of HoloViews object\n",
    "hvplot is building behind the scenes for our earthquake example:"
   ]
  },
  {
   "cell_type": "code",
   "execution_count": null,
   "metadata": {},
   "outputs": [],
   "source": [
    "hv.Scatter(most_severe, 'longitude', ['latitude', 'mag']).opts(color='mag', aspect='equal')\n"
   ]
  },
  {
   "cell_type": "markdown",
   "metadata": {},
   "source": [
    "### Adding interactivity to Elements\n",
    "\n",
    "When rasterization of the population density data via hvplot was\n",
    "introduced in the last notebook, we saw that the HoloViews object\n",
    "returned was not an element but a *`DynamicMap`*.\n",
    "\n",
    "A `DynamicMap` enables custom interactivity beyond the Bokeh defaults by\n",
    "dynamically generating elements that get displayed and updated as the\n",
    "plot is interacted with.\n",
    "\n",
    "There is a counterpart to the `DynamicMap` that does not require a live\n",
    "Python server to be running called the `HoloMap`. The `HoloMap`\n",
    "container will not be covered in the tutorial but you can learn more\n",
    "about them in the [containers user\n",
    "guide](http://holoviews.org/user_guide/Dimensioned_Containers.html).\n",
    "\n",
    "Now let us build a very simple `DynamicMap` that is driven by a *linked\n",
    "stream* specifically a `PointerXY` stream that represents the position\n",
    "of the cursor over the plot:"
   ]
  },
  {
   "cell_type": "code",
   "execution_count": null,
   "metadata": {},
   "outputs": [],
   "source": [
    "from holoviews import streams\n",
    "pointer = streams.PointerXY(x=0, y=0) # x=0 and y=0 are the initialized values\n",
    "\n",
    "def crosshair(x, y):\n",
    "    return  hv.Ellipse(0,0,1) * hv.HLine(y) * hv.VLine(x)\n",
    "\n",
    "hv.DynamicMap(crosshair, streams=[pointer])"
   ]
  },
  {
   "cell_type": "markdown",
   "metadata": {},
   "source": [
    "Try moving your mouse over the plot and you should see the crosshair\n",
    "follow your mouse position.\n",
    "\n",
    "The core concepts here are:\n",
    "\n",
    "* The plot shows an overlay built with the `*` operator introduced in\n",
    "  the previous notebook.\n",
    "* There is a callback that returns this overlay that is built according\n",
    "  to the supplied `x` and `y` arguments. A DynamicMap always contains a\n",
    "  callback that returns a HoloViews object such as an `Element` or\n",
    "  `Overlay`\n",
    "* These `x` and `y` arguments are supplied by the `PointerXY` stream\n",
    "  that reflect the position of the mouse on the plot."
   ]
  },
  {
   "cell_type": "code",
   "execution_count": null,
   "metadata": {},
   "outputs": [],
   "source": [
    "### Exercise: Look up the Ellipse, HLine and VLine elements in the\n",
    "### reference guide (http://holoviews.org/reference/index.html) and see\n",
    "### if they align with your intuitions.\n",
    "\n",
    "### Additional Exercise: If you have time, try running one of the examples in the\n",
    "### 'Streams' section of the HoloViews reference guide\n",
    "### (http://holoviews.org/reference/index.html) in this cell"
   ]
  },
  {
   "cell_type": "markdown",
   "metadata": {},
   "source": [
    "### Selecting a particular earthquake with the mouse\n",
    "\n",
    "Now we only need two more concept before we can set up the appropriate\n",
    "mechanism to select a particular earthquake on the hvplot generated\n",
    "Scatter plot we started with.\n",
    "\n",
    "First, we can attach a stream to an existing HoloViews element such as\n",
    "the earthquake distribution generated with hvplot:"
   ]
  },
  {
   "cell_type": "code",
   "execution_count": null,
   "metadata": {},
   "outputs": [],
   "source": [
    "selection_stream = streams.Selection1D(source=high_mag_scatter)"
   ]
  },
  {
   "cell_type": "markdown",
   "metadata": {},
   "source": [
    "Next we need to enable the 'tap' tool on our Scatter to instruct Bokeh\n",
    "to enable the desired selection mechanism in the browser."
   ]
  },
  {
   "cell_type": "code",
   "execution_count": null,
   "metadata": {},
   "outputs": [],
   "source": [
    "high_mag_scatter.opts(tools=['tap'])"
   ]
  },
  {
   "cell_type": "markdown",
   "metadata": {},
   "source": [
    "The tap tool is in the toolbar with the icon showing the concentric\n",
    "circles and plus symbol. If you enable this tool, you should be able to pick individual earthquakes above by tapping on them.\n",
    "\n",
    "Now we can make a DynamicMap that uses the stream we defined to show the index of the earthquake selected via the `hv.Text` element:"
   ]
  },
  {
   "cell_type": "code",
   "execution_count": null,
   "metadata": {},
   "outputs": [],
   "source": [
    "def labelled_callback(index):\n",
    "    if len(index) == 0:\n",
    "        return  hv.Text(x=0,y=0, text='')\n",
    "    first_index = index[0] # Pick only the first one if multiple are selected\n",
    "    row = most_severe.iloc[first_index]\n",
    "    return hv.Text(x=row.longitude,y=row.latitude,text='%d : %s' % (first_index, row.place))\n",
    "\n",
    "labeller = hv.DynamicMap(labelled_callback, streams=[selection_stream])"
   ]
  },
  {
   "cell_type": "markdown",
   "metadata": {},
   "source": [
    "This labeller receives the index argument from the Selection1D stream\n",
    "which corresponds to the row of the original dataframe (`most_severe`)\n",
    "that was selected. This lets us present the index and place value using\n",
    "`hv.Text` which we then position at the corresponding latitude and\n",
    "longitude to label the chosen earthquake.\n",
    "\n",
    "Finally, we overlay this labeller `DynamicMap` over the original\n",
    "plot. Now by using the tap tool you can see the index number of an\n",
    "earthquake followed by the assigned place name:"
   ]
  },
  {
   "cell_type": "code",
   "execution_count": null,
   "metadata": {},
   "outputs": [],
   "source": [
    "(high_mag_scatter.opts(tools=['tap']) * labeller).opts(hv.opts.Scatter(tools=['hover']))"
   ]
  },
  {
   "cell_type": "code",
   "execution_count": null,
   "metadata": {},
   "outputs": [],
   "source": [
    "### Exercise: Pick an earthquake point above and using the displayed\n",
    "### index, display the corresponding row of the `most_severe` dataframe\n",
    "### using the `.iloc` method."
   ]
  },
  {
   "cell_type": "markdown",
   "metadata": {},
   "source": [
    "### Building a linked earthquake visualizer\n",
    "\n",
    "Now we will build a visualization that achieves the following:\n",
    "\n",
    "* The user shall select an earthquake with magnitude `>7` using the tap\n",
    "  tool in the manner illustrated in the last section.\n",
    "\n",
    "* *All* earthquakes within 0.5 degrees of latitude and longitude of the\n",
    "   selected earthquake will be plotted in grey. 0.5 degrees across the\n",
    "   Earth's surface is roughly 50km.\n",
    "\n",
    "* Then we will generate histogram showing the distribution of magnitudes\n",
    "  in the selected area.\n",
    "\n",
    "* In addition, we will generate a timeseries scatter plot showing the magnitudes of earthquakes over time in the selected area."
   ]
  },
  {
   "cell_type": "markdown",
   "metadata": {},
   "source": [
    "The first step is to plot the lower magnitude quakes in the selected\n",
    "area using an approach that is very similar to what is already shown\n",
    "above. First we will define a function that given a latitude and\n",
    "longitude, returns the rows of `most_severe` corresponding to earthquakes within 0.5 degrees of that point:"
   ]
  },
  {
   "cell_type": "code",
   "execution_count": null,
   "metadata": {},
   "outputs": [],
   "source": [
    "def earthquake_around_point(df, lat, lon, degrees_dist=0.5):\n",
    "    half_dist = degrees_dist / 2.0\n",
    "    lat_mask = np.abs(df['latitude'] - lat) < half_dist\n",
    "    lon_mask = np.abs(df['longitude'] - lon) < half_dist\n",
    "    mask = np.bitwise_and(lat_mask.compute(), lon_mask.compute())\n",
    "    return df[mask].compute()"
   ]
  },
  {
   "cell_type": "markdown",
   "metadata": {},
   "source": [
    "We can now use this function to create a `DynamicMap` that reveals the\n",
    "lower magnitude tremors around a particular earthquake:"
   ]
  },
  {
   "cell_type": "code",
   "execution_count": null,
   "metadata": {},
   "outputs": [],
   "source": [
    "def localized_callback(index):\n",
    "    if len(index) == 0:\n",
    "        return  hv.Scatter(None, 'longitude', 'latitude')\n",
    "    first_index = index[0] # Pick only the first one if multiple are selected\n",
    "    row = most_severe.iloc[first_index]\n",
    "    selected_df = earthquake_around_point(cleaned_reindexed_df, row.latitude, row.longitude)\n",
    "    return hv.Scatter(selected_df, 'longitude', 'latitude').opts(color='green')\n",
    "\n",
    "localized_earthquakes = hv.DynamicMap(localized_callback, streams=[selection_stream])"
   ]
  },
  {
   "cell_type": "code",
   "execution_count": null,
   "metadata": {},
   "outputs": [],
   "source": [
    "high_mag_scatter.opts(tools=['tap']) * localized_earthquakes\n"
   ]
  },
  {
   "cell_type": "markdown",
   "metadata": {},
   "source": [
    "Note that you may need to zoom in to your selected earthquake to see the\n",
    "localized, lower magnitude earthquakes around it."
   ]
  },
  {
   "cell_type": "markdown",
   "metadata": {},
   "source": [
    "### Linked plots\n",
    "\n",
    "So far we have overlayed the display updates on top of the existing\n",
    "spatial distribution of earthquakes. However, there is no requirement\n",
    "that the data is overlaid and we might want to simply attach an entirely\n",
    "new, derived plot that dynamically updates to the side.\n",
    "\n",
    "Using the same principles as we have already seen, we can define a\n",
    "`DynamicMap` that returns `Histogram` distributions of earthquake\n",
    "magnitude:"
   ]
  },
  {
   "cell_type": "code",
   "execution_count": null,
   "metadata": {},
   "outputs": [],
   "source": [
    "def histogram_callback(index):\n",
    "    if len(index) == 0:\n",
    "        return  hv.Histogram(([], []), kdims=['longitude'], vdims=['latitude'])\n",
    "    first_index = index[0] # Pick only the first one if multiple are selected\n",
    "    row = most_severe.iloc[first_index]\n",
    "    selected_df = earthquake_around_point(cleaned_reindexed_df, row.latitude, row.longitude)\n",
    "    return selected_df.hvplot.hist(y='mag', bin_range=(0,10), bins=50)\n",
    "\n",
    "\n",
    "histogram = hv.DynamicMap(histogram_callback, streams=[selection_stream])"
   ]
  },
  {
   "cell_type": "markdown",
   "metadata": {},
   "source": [
    "The only real difference in the approach here is that we can still use\n",
    "`.hvplot` to generate our elements instead of declaring the HoloViews\n",
    "elements explicitly. In this example, `.hvplot.hist` is used.\n",
    "\n",
    "Now we can combine the components we have already built as follows to create a dynamically updating plot together with an associated, linked histogram:"
   ]
  },
  {
   "cell_type": "code",
   "execution_count": null,
   "metadata": {},
   "outputs": [],
   "source": [
    "\n",
    "((high_mag_scatter.opts(tools=['tap']) * labeller) + histogram).cols(1)\n",
    "\n"
   ]
  },
  {
   "cell_type": "markdown",
   "metadata": {},
   "source": [
    "## TODO\n",
    "\n",
    "This tutorial notebook is still in the process of being updated. The\n",
    "following two sections will be added shortly:\n",
    "\n",
    "* A second example of a linked plot showing a timeseries based on the selected set of earthquakes.\n",
    "\n",
    "* A conclusion and summary."
   ]
  }
 ],
 "metadata": {},
 "nbformat": 4,
 "nbformat_minor": 2
}
