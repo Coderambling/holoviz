{
 "cells": [
  {
   "cell_type": "markdown",
   "metadata": {},
   "source": [
    "<a href='http://www.holoviews.org'><img src=\"../../assets/pn_hv_gv_bk_ds_pa.png\" alt=\"HoloViz logos\" width=\"40%;\" align=\"left\"/></a>\n",
    "<div style=\"float:right;\"><h2>Exercise: Building a Dashboard</h2></div>"
   ]
  },
  {
   "cell_type": "markdown",
   "metadata": {},
   "source": [
    "<div class=\"alert alert-warning\" role=\"alert\"> <strong>WORK IN PROGRESS:</strong> We are in the progress of updating these materials in anticipation of a tutorial at the 2019 SciPy conference. Work will be complete by the morning of July 8th 2019. Check out <a href=\"https://github.com/pyviz/holoviz/tree/v0.1.1\">this tag</a> to access the materials as they were before these changes started. For the latest version of the tutorial, visit <a href=\"https://holoviz.org/tutorial\">holoviz.org</a>.\n",
    "</div>"
   ]
  },
  {
   "cell_type": "code",
   "execution_count": null,
   "metadata": {},
   "outputs": [],
   "source": [
    "import panel as pn\n",
    "import holoviews as hv\n",
    "from holoviews import opts  # noqa\n",
    "\n",
    "pn.extension('katex')\n",
    "hv.extension('bokeh')"
   ]
  },
  {
   "cell_type": "markdown",
   "metadata": {},
   "source": [
    "### Exercise 1\n",
    "\n",
    "In this exercise you will construct a number of Panel components and then lay them out as a non-interactive Panel dashboard."
   ]
  },
  {
   "cell_type": "markdown",
   "metadata": {},
   "source": [
    "#### The data\n",
    "\n",
    "Throughout this tutorial we will be working with one core dataset, a collection of earthquakes recorded between 2000-2018 provided by the US Geological Survey (USGS). The data is provided as a parquet file as part of the tutorial and we will load it using dask and persist it. We will return to this later, for now we will focus on building a dashboard and you don't know any of the details about the dataset or the dask or pandas API."
   ]
  },
  {
   "cell_type": "code",
   "execution_count": null,
   "metadata": {},
   "outputs": [],
   "source": [
    "import dask.dataframe as dd\n",
    "\n",
    "df = dd.read_parquet('../../data/earthquakes.parq')\n",
    "\n",
    "df = df[~df.mag.isna()].persist()"
   ]
  },
  {
   "cell_type": "markdown",
   "metadata": {},
   "source": [
    "#### The logo\n",
    "\n",
    "The first component of the dashboard is an image of the US Geological Survey logo, start by declaring a pane containing the logo and assign it to the ``logo`` variable. Also set a width to ensure the logo doesn't appear to big."
   ]
  },
  {
   "cell_type": "code",
   "execution_count": null,
   "metadata": {},
   "outputs": [],
   "source": [
    "logo_url = 'https://upload.wikimedia.org/wikipedia/commons/thumb/c/cd/USGS_logo.svg/2000px-USGS_logo.svg.png'\n",
    "\n",
    "## Define a panel component containing the logo\n",
    "logo = ...\n",
    "\n",
    "## Display it\n"
   ]
  },
  {
   "cell_type": "markdown",
   "metadata": {},
   "source": [
    "<details><summary>Solution</summary><br>\n",
    "\n",
    "```python\n",
    "logo = pn.panel(logo_url, width=300) \n",
    "```\n",
    "\n",
    "</details>"
   ]
  },
  {
   "cell_type": "markdown",
   "metadata": {},
   "source": [
    "#### Richter scale equation\n",
    "\n",
    "Next we will create a component to display the equation for the Richter scale definition. Declare the appropriate pane and assign it to the ``equation`` variable."
   ]
  },
  {
   "cell_type": "code",
   "execution_count": null,
   "metadata": {},
   "outputs": [],
   "source": [
    "equation_string = '$M_L = log_{10}A - log_{10} A_0(\\delta)$'\n",
    "\n",
    "## Define a panel component containing the equation (Hint: Use the LaTeX pane)\n",
    "equation = ...\n",
    "\n",
    "## Display it\n"
   ]
  },
  {
   "cell_type": "markdown",
   "metadata": {},
   "source": [
    "<details><summary>Solution</summary><br>\n",
    "\n",
    "```python\n",
    "logo = pn.pane.LaTeX(equation_string) \n",
    "```\n",
    "\n",
    "</details>"
   ]
  },
  {
   "cell_type": "markdown",
   "metadata": {},
   "source": [
    "#### Computing statistics"
   ]
  },
  {
   "cell_type": "code",
   "execution_count": null,
   "metadata": {},
   "outputs": [],
   "source": [
    "year = 2000\n",
    "\n",
    "def yearly_stats_fn(year):\n",
    "    return df[df.time.dt.year == year][['mag', 'depth', 'rms']].describe().compute()\n",
    "\n",
    "## Create a panel component by calling the function with a particular year\n",
    "yearly_stats = ...\n",
    "\n",
    "## Display it\n"
   ]
  },
  {
   "cell_type": "markdown",
   "metadata": {},
   "source": [
    "<details><summary>Solution</summary><br>\n",
    "\n",
    "```python\n",
    "yearly_stats = pn.panel(stats_df) \n",
    "```\n",
    "\n",
    "</details>"
   ]
  },
  {
   "cell_type": "markdown",
   "metadata": {},
   "source": [
    "#### List the strongest earthquakes"
   ]
  },
  {
   "cell_type": "code",
   "execution_count": null,
   "metadata": {},
   "outputs": [],
   "source": [
    "def strongest_earthquakes_fn(year):\n",
    "    year_df = df[df.time.dt.year == year].compute()\n",
    "    return year_df.sort_values('mag', ascending=False).iloc[:5][['time', 'place', 'mag']].reset_index(drop=True)\n",
    "\n",
    "## Create a panel component by calling the function with a particular year\n",
    "strongest_earthquakes = ...\n",
    "\n",
    "## Display it\n"
   ]
  },
  {
   "cell_type": "markdown",
   "metadata": {},
   "source": [
    "<details><summary>Solution</summary><br>\n",
    "\n",
    "```python\n",
    "strongest_earthquakes = pn.panel(strongest_df) \n",
    "```\n",
    "\n",
    "</details>"
   ]
  },
  {
   "cell_type": "markdown",
   "metadata": {},
   "source": [
    "#### A plot\n",
    "\n",
    "If you are up to it create a custom plot from the ``year_df`` dataframe defined below, create a panel component and assign it to the ``plot`` variable.\n",
    "\n"
   ]
  },
  {
   "cell_type": "markdown",
   "metadata": {},
   "source": [
    "<details><summary>Hint</summary><br>\n",
    "\n",
    "If you are using matplotlib pyplot you can get the figure with ``plot = plt.gcf()`` and the close it with ``plot.close()``\n",
    "\n",
    "</details>"
   ]
  },
  {
   "cell_type": "code",
   "execution_count": null,
   "metadata": {},
   "outputs": [],
   "source": [
    "year_df = df[df.time.dt.year == year].compute()\n",
    "\n",
    "## Create a plot and assign it to the plot variable\n",
    "plot = ...\n",
    "\n",
    "## Display it\n"
   ]
  },
  {
   "cell_type": "markdown",
   "metadata": {},
   "source": [
    "<details><summary>Solution</summary><br>\n",
    "\n",
    "```python\n",
    "plot = hv.BoxWhisker(year_df, 'type', 'mag')\n",
    "```\n",
    "\n",
    "</details>"
   ]
  },
  {
   "cell_type": "markdown",
   "metadata": {},
   "source": [
    "### Composing the dashboard\n",
    "\n",
    "Now that we have defined all the different components, it is time to lay them out into the overall dashboard.\n",
    "\n",
    "Arrange the following components into a dashboard using the ``Row`` and ``Column`` panels:\n",
    "\n",
    "* ``logo``\n",
    "* ``equation``\n",
    "* ``yearly_stats``\n",
    "* ``strongest_earthquakes``\n",
    "* ``plot`` (optional)"
   ]
  },
  {
   "cell_type": "code",
   "execution_count": null,
   "metadata": {},
   "outputs": [],
   "source": []
  },
  {
   "cell_type": "markdown",
   "metadata": {},
   "source": [
    "<details><summary>Solution</summary><br>\n",
    "\n",
    "```python\n",
    "year = 2000\n",
    "    \n",
    "logo = pn.panel(logo_url, width=200)\n",
    "equation = pn.pane.LaTeX(equation_string)\n",
    "yearly_stats = yearly_stats_fn(year)\n",
    "strongest_earthquakes = strongest_earthquakes_fn(year)\n",
    "plot = hv.BoxWhisker(year_df, 'type', ('mag', 'Mangitude'))\n",
    "    \n",
    "pn.Row(\n",
    "    pn.Column(logo, pn.panel('## The Richter scale'), equation),\n",
    "    pn.Column('### Statistics', yearly_stats),\n",
    "    pn.Column('### Strongest Earthquakes', strongest_earthquakes),\n",
    "    pn.Column('### Magnitude Plot', plot)\n",
    ")\n",
    "```\n",
    "    \n",
    "</details>"
   ]
  },
  {
   "cell_type": "markdown",
   "metadata": {},
   "source": [
    "### Exercise 2\n",
    "\n",
    "Add widgets to control the dashboard."
   ]
  },
  {
   "cell_type": "markdown",
   "metadata": {},
   "source": [
    "#### The widget\n",
    "\n",
    "Declare an ``IntSlider`` widget with a start value of 2000, end value of 2018, and current value of 2000."
   ]
  },
  {
   "cell_type": "markdown",
   "metadata": {},
   "source": [
    "<details><summary>Solution</summary><br>\n",
    "\n",
    "```python\n",
    "year_slider = pn.widgets.IntSlider(name='Year', start=2000, end=2018, value=2000)\n",
    "year_slider\n",
    "```\n",
    "\n",
    "</details>"
   ]
  },
  {
   "cell_type": "markdown",
   "metadata": {},
   "source": [
    "### Exercise 3\n",
    "\n",
    "Add some visualizations via the `.plot` API to the dashboard."
   ]
  },
  {
   "cell_type": "markdown",
   "metadata": {},
   "source": [
    "Start by reading in the data from the parquet file.\n",
    "\n",
    "<details><summary>Hint</summary><br>\n",
    "\n",
    "Use tab complete to find the `read_parquet` method in the `dask.dataframe` module (`dd`)\n",
    "\n",
    "</details>"
   ]
  },
  {
   "cell_type": "code",
   "execution_count": null,
   "metadata": {},
   "outputs": [],
   "source": []
  },
  {
   "cell_type": "markdown",
   "metadata": {},
   "source": [
    "<details><summary>Solution</summary><br>\n",
    "\n",
    "```python\n",
    "import dask.dataframe as dd\n",
    "\n",
    "df = dd.read_parquet('../../data/earthquakes.parq')\n",
    "```\n",
    "\n",
    "<br></details>\n",
    "\n",
    "Make a datashaded scatter of all the earthquakes. Call this plot `earthquake_scatter`.\n",
    "\n",
    "<details><summary>Hint</summary><br>\n",
    "\n",
    "Don't forget to include `datashade=True` and to import `hvplot.dask`\n",
    "\n",
    "</details>"
   ]
  },
  {
   "cell_type": "code",
   "execution_count": null,
   "metadata": {},
   "outputs": [],
   "source": []
  },
  {
   "cell_type": "markdown",
   "metadata": {},
   "source": [
    "<details><summary>Solution</summary><br>\n",
    "    \n",
    "```python\n",
    "import hvplot.dask\n",
    "    \n",
    "earthquake_scatter = df.hvplot.scatter(x='longitude', y='latitude', datashade=True)\n",
    "earthquake_scatter\n",
    "```\n",
    "    \n",
    "<br></details>\n",
    "\n",
    "Include this plot in the panel layout that you build in Exercises 1 and 2.\n",
    "\n",
    "<details><summary>Hint</summary><br>\n",
    "\n",
    "The panel object is indexable just like a list or a DataFrame, so just replace the item in. Call `print(dashboard)` to inspect the hierarchy\n",
    "\n",
    "</details>"
   ]
  },
  {
   "cell_type": "code",
   "execution_count": null,
   "metadata": {},
   "outputs": [],
   "source": []
  },
  {
   "cell_type": "markdown",
   "metadata": {},
   "source": [
    "<details><summary>Solution</summary><br>\n",
    "\n",
    "```python\n",
    "dashboard[0] = earthquake_scatter\n",
    "dashboard\n",
    "```\n",
    "\n",
    "<br></details>\n",
    "\n",
    "You should now have a datashaded scatter plot that shows up in your dashboard.\n",
    "\n",
    "<details><summary>I don't</summary><br>\n",
    "\n",
    "```python\n",
    "import dask.dataframe as dd\n",
    "import hvplot.dask\n",
    "\n",
    "earthquake_scatter = df.hvplot.scatter(x='longitude', y='latitude', datashade=True)\n",
    "dashboard = pn.Column('## Earthquakes', earthquake_scatter)\n",
    "dashboard\n",
    "```\n",
    "\n",
    "<br></details>"
   ]
  },
  {
   "cell_type": "markdown",
   "metadata": {},
   "source": [
    "### Exercise 4\n",
    "\n",
    "Add a linked visualization with holoviews."
   ]
  },
  {
   "cell_type": "markdown",
   "metadata": {},
   "source": [
    "### Exercise 5\n",
    "\n",
    "Add a datashaded visualization to the dashboard."
   ]
  }
 ],
 "metadata": {
  "language_info": {
   "name": "python",
   "pygments_lexer": "ipython3"
  }
 },
 "nbformat": 4,
 "nbformat_minor": 4
}
