{
 "cells": [
  {
   "cell_type": "markdown",
   "metadata": {},
   "source": [
    "<a href='http://www.holoviews.org'><img src=\"../../assets/pn_hv_gv_bk_ds_pa.png\" alt=\"HoloViz logos\" width=\"40%;\" align=\"left\"/></a>\n",
    "<div style=\"float:right;\"><h2>Exercise 4: Building a Dashboard</h2></div>"
   ]
  },
  {
   "cell_type": "code",
   "execution_count": null,
   "metadata": {},
   "outputs": [],
   "source": [
    "import numpy as np\n",
    "import pandas as pd\n",
    "import panel as pn\n",
    "pn.extension('katex')\n",
    "\n",
    "import hvplot.pandas # noqa"
   ]
  },
  {
   "cell_type": "markdown",
   "metadata": {},
   "source": [
    "## Non-interactive components\n",
    "\n",
    "In this exercise you will first construct a number of Panel components and then lay them out as a non-interactive Panel dashboard, using the usual earthquakes dataset."
   ]
  },
  {
   "cell_type": "code",
   "execution_count": null,
   "metadata": {},
   "outputs": [],
   "source": [
    "%%time\n",
    "df = pd.read_parquet('../../data/earthquakes-projected.parq')\n",
    "df.time = df.time.astype('datetime64[ns]')\n",
    "df = df.set_index(df.time)"
   ]
  },
  {
   "cell_type": "markdown",
   "metadata": {},
   "source": [
    "#### The logo\n",
    "\n",
    "The first component of the dashboard is an image of the US Geological Survey logo. Start by declaring a pane containing the logo and assign it to the ``logo`` variable. Also set a width to ensure the logo doesn't appear too big."
   ]
  },
  {
   "cell_type": "code",
   "execution_count": null,
   "metadata": {},
   "outputs": [],
   "source": [
    "logo_url = '../../assets/usgs_logo.png'\n",
    "\n",
    "## Define a panel component containing the logo\n",
    "logo = ...\n",
    "\n",
    "## Display it\n"
   ]
  },
  {
   "cell_type": "markdown",
   "metadata": {},
   "source": [
    "<details><summary>Solution</summary><br>\n",
    "\n",
    "```python\n",
    "logo = pn.panel(logo_url, width=300) \n",
    "```\n",
    "\n",
    "</details>"
   ]
  },
  {
   "cell_type": "markdown",
   "metadata": {},
   "source": [
    "#### Richter scale equation\n",
    "\n",
    "Next we will create a component to display the equation for the Richter scale definition. Declare the appropriate pane and assign it to the ``equation`` variable."
   ]
  },
  {
   "cell_type": "code",
   "execution_count": null,
   "metadata": {},
   "outputs": [],
   "source": [
    "equation_string = '$M_L = log_{10}A - log_{10} A_0(\\delta)$'\n",
    "\n",
    "## Define a panel component containing the equation (Hint: Use the LaTeX pane)\n",
    "equation = ...\n",
    "\n",
    "## Display it\n"
   ]
  },
  {
   "cell_type": "markdown",
   "metadata": {},
   "source": [
    "<details><summary>Solution</summary><br>\n",
    "\n",
    "```python\n",
    "equation = pn.pane.LaTeX(equation_string) \n",
    "```\n",
    "\n",
    "</details>"
   ]
  },
  {
   "cell_type": "markdown",
   "metadata": {},
   "source": [
    "#### List the strongest earthquakes"
   ]
  },
  {
   "cell_type": "code",
   "execution_count": null,
   "metadata": {},
   "outputs": [],
   "source": [
    "year = 2000\n",
    "\n",
    "def strongest_earthquakes_fn(year):\n",
    "    year_df = df[(df.time.dt.year == year) & (df.mag > 7)]\n",
    "    return year_df.sort_values('mag', ascending=False).iloc[:5][['time', 'place', 'mag']].reset_index(drop=True)\n",
    "\n",
    "## Create a panel component by calling the function with a particular year\n",
    "strongest_earthquakes = ...\n",
    "\n",
    "## Display it\n"
   ]
  },
  {
   "cell_type": "markdown",
   "metadata": {},
   "source": [
    "<details><summary>Solution</summary><br>\n",
    "\n",
    "```python\n",
    "strongest_earthquakes = pn.panel(strongest_earthquakes_fn(year)) \n",
    "```\n",
    "\n",
    "</details>"
   ]
  },
  {
   "cell_type": "markdown",
   "metadata": {},
   "source": [
    "#### Display an iframe of a Google Map"
   ]
  },
  {
   "cell_type": "markdown",
   "metadata": {},
   "source": [
    "<details><summary>Hint</summary><br>\n",
    "\n",
    "An iframe is an HTML tag.\n",
    "\n",
    "</details>"
   ]
  },
  {
   "cell_type": "code",
   "execution_count": null,
   "metadata": {},
   "outputs": [],
   "source": [
    "def gmap_fn(year):\n",
    "    yearly_df = df[(df.time.dt.year == year)]\n",
    "    index = np.argmax(yearly_df.mag.values)\n",
    "    strongest = yearly_df.iloc[index]\n",
    "    lon, lat = strongest.longitude, strongest.latitude\n",
    "    return \"\"\"\n",
    "    <iframe width=\"300\" height=\"300\" src=\"https://maps.google.com/maps?q={lat},{lon}&z=6&output=embed\"\n",
    "    frameborder=\"0\" scrolling=\"no\" marginheight=\"0\" marginwidth=\"0\"></iframe>\n",
    "    \"\"\".format(lat=lat, lon=lon)\n",
    "\n",
    "## Create a panel component by calling the function with a particular year and wrapping it in the appropriate pane\n",
    "gmap = ...\n",
    "\n",
    "## Display it\n"
   ]
  },
  {
   "cell_type": "markdown",
   "metadata": {},
   "source": [
    "<details><summary>Solution</summary><br>\n",
    "\n",
    "This example solution displays the map for the `year` (by default is the year 2000):\n",
    "\n",
    "```python\n",
    "gmap = pn.panel(gmap_fn(year))\n",
    "```\n",
    "\n",
    "</details>"
   ]
  },
  {
   "cell_type": "markdown",
   "metadata": {},
   "source": [
    "#### A plot \n",
    "\n",
    "Here we create a plot from the ``year_df`` dataframe with `.hvplot`, create a Panel component, and assign it to the ``plot`` variable. We can visualize the distribution of earthquake magnitudes over the year by plotting the `time` variable on the `x`-axis and the `mag` variable on the `y`-axis.\n",
    "\n"
   ]
  },
  {
   "cell_type": "code",
   "execution_count": null,
   "metadata": {},
   "outputs": [],
   "source": [
    "year_df = df[df.time.dt.year == year]\n",
    "\n",
    "## Create a plot and assign it to the plot variable\n",
    "plot = ...\n",
    "\n",
    "## Display it\n"
   ]
  },
  {
   "cell_type": "markdown",
   "metadata": {},
   "source": [
    "<details><summary>Solution</summary><br>\n",
    "\n",
    "This example solution uses concepts covered in the plotting section of the tutorial:\n",
    "\n",
    "```python\n",
    "plot = year_df.hvplot.line(x='time', y='mag')\n",
    "```\n",
    "\n",
    "</details>"
   ]
  },
  {
   "cell_type": "markdown",
   "metadata": {},
   "source": [
    "### Composing the static dashboard\n",
    "\n",
    "Now that we have defined all the different components, it is time to lay them out into the overall dashboard.\n",
    "\n",
    "Arrange the following components into a dashboard using the ``Row`` and ``Column`` panels:\n",
    "\n",
    "* ``logo``\n",
    "* ``equation``\n",
    "* ``strongest_earthquakes``\n",
    "* ``gmap``\n",
    "* ``plot``"
   ]
  },
  {
   "cell_type": "markdown",
   "metadata": {},
   "source": [
    "<details><summary>Solution</summary><br>\n",
    "\n",
    "```python\n",
    "year = 2000\n",
    "\n",
    "logo = pn.panel(logo_url, width=200)\n",
    "equation = pn.pane.LaTeX(equation_string)\n",
    "strongest_earthquakes = strongest_earthquakes_fn(year)\n",
    "gmap = pn.pane.HTML(gmap_fn(year), height=300, width=300)\n",
    "plot = year_df.hvplot.line(x='time', y='mag')\n",
    "\n",
    "title = pn.panel('# Strongest Earthquakes in the Year %d' % year, width=400)\n",
    "header = pn.Row(title, pn.layout.HSpacer(), logo)\n",
    "\n",
    "body = pn.Row(\n",
    "    pn.Column('### Strongest Earthquakes', strongest_earthquakes),\n",
    "    pn.Column('### Description', gmap),\n",
    "    pn.Column('### Magnitude Plot', plot)\n",
    ")\n",
    "\n",
    "pn.Column(header, body)\n",
    "```\n",
    "    \n",
    "</details>"
   ]
  },
  {
   "cell_type": "markdown",
   "metadata": {},
   "source": [
    "### Exercise 3\n",
    "\n",
    "Having learned about how to create interactive components, we can now make the formerly static dashboard interactive by adding a widget to control the year."
   ]
  },
  {
   "cell_type": "markdown",
   "metadata": {},
   "source": [
    "#### The widget\n",
    "\n",
    "Declare an ``IntSlider`` widget with a start value of 2000, end value of 2018, and current value of 2000."
   ]
  },
  {
   "cell_type": "code",
   "execution_count": null,
   "metadata": {},
   "outputs": [],
   "source": []
  },
  {
   "cell_type": "markdown",
   "metadata": {},
   "source": [
    "<details><summary>Solution</summary><br>\n",
    "\n",
    "```python\n",
    "year_slider = pn.widgets.IntSlider(name='Year', start=2000, end=2018, value=2000)\n",
    "year_slider\n",
    "```\n",
    "\n",
    "</details>"
   ]
  },
  {
   "cell_type": "markdown",
   "metadata": {},
   "source": [
    "### Composing the dashboard\n",
    "\n",
    "Now that we have created new dynamic components let us lay them out once again to create a fully interactive dashboard. Ensure that you include the widget so you can actually control the year."
   ]
  }
 ],
 "metadata": {
  "language_info": {
   "name": "python",
   "pygments_lexer": "ipython3"
  }
 },
 "nbformat": 4,
 "nbformat_minor": 4
}
