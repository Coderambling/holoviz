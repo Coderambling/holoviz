{
 "cells": [
  {
   "cell_type": "markdown",
   "id": "d52fd33e",
   "metadata": {},
   "source": [
    "<a href='http://www.holoviews.org'><img src=\"../../assets/pn_hv_gv_bk_ds_pa.png\" alt=\"HoloViz logos\" width=\"40%;\" align=\"left\"/></a>\n",
    "<div style=\"float:right;\"><h2>Exercises 3: Building Pipelines</h2></div>"
   ]
  },
  {
   "cell_type": "markdown",
   "id": "ca49521d",
   "metadata": {},
   "source": [
    "### Exercise 3\n",
    "\n",
    "In this exercise we will explore hvplot some more which we will build on in the next exercise to create linked visualization.\n",
    "\n",
    "#### Loading the data \n",
    "\n",
    "We will be building a new visualization based on the same data we have cleaned and filtered in the rest of the tutorial. First we load the earthquakes `DataFrame` and filter to those with `>=7` magnitude:"
   ]
  },
  {
   "cell_type": "code",
   "execution_count": null,
   "id": "aa783d63",
   "metadata": {},
   "outputs": [],
   "source": [
    "import numpy as np\n",
    "import pandas as pd \n",
    "import xarray as xr\n",
    "import panel as pn\n",
    "\n",
    "import hvplot.pandas # noqa: adds hvplot method to pandas objects\n",
    "import hvplot.xarray # noqa: adds hvplot method to xarray objects\n",
    "pn.pane.DataFrame.max_rows = 1000"
   ]
  },
  {
   "cell_type": "code",
   "execution_count": null,
   "id": "eba0d9b2",
   "metadata": {},
   "outputs": [],
   "source": [
    "df = pd.read_parquet('../../data/earthquakes-projected.parq')\n",
    "df.time = df.time.astype('datetime64[ns]')\n",
    "columns = ['time', 'mag', 'depth', 'latitude', 'longitude', 'place', 'type']\n",
    "df = df.set_index(df.time)[columns]\n",
    "most_severe = df[df.mag >= 7]"
   ]
  },
  {
   "cell_type": "markdown",
   "id": "8eb48a86",
   "metadata": {},
   "source": [
    "### Initial inspection of the depth data\n",
    "\n",
    "Declare and display a depth float slider with the handle `depth_slider` (and named 'Minimum depth') that ranges between zero and 700 meters and verify that the depth values in `most_severe` lie in this range. Set the default value to the middle of this range.\n",
    "\n",
    "\n",
    "<br><details><summary>Hint</summary><br>\n",
    "\n",
    "You can use the `min()` and `max()` method on the `depth` `Series` of `most_severe` to check the range. To declare the slider, use a `pn.widgets.FloatSlider`.\n",
    "</details>"
   ]
  },
  {
   "cell_type": "code",
   "execution_count": null,
   "id": "b6321a69",
   "metadata": {},
   "outputs": [],
   "source": [
    "depth_slider = ... \n",
    "depth_slider"
   ]
  },
  {
   "cell_type": "markdown",
   "id": "bf395f42",
   "metadata": {},
   "source": [
    "<details><summary>Solution</summary><br>\n",
    "\n",
    "```python\n",
    "depth_slider = pn.widgets.FloatSlider(name='Minimum depth', start=0, end=700, value=350)\n",
    "depth_slider\n",
    "```\n",
    "    \n",
    "```python\n",
    ">> most_severe.depth.min()\n",
    "4.2\n",
    ">> most_severe.depth.max()\n",
    "675.4\n",
    "    \n",
    "```\n",
    "\n",
    "<br></details>"
   ]
  },
  {
   "cell_type": "markdown",
   "id": "478d6e84",
   "metadata": {},
   "source": [
    "#### Exploring an interactive `DataFrame`\n",
    "\n",
    "Now we will create a new interactive `DataFrame` called `dfi` with `sizing_mode='stretch_width'`.\n",
    "\n",
    "\n",
    "<br><details><summary>Hint</summary><br>\n",
    "\n",
    "Use the `.interactive` method on `most_severe` to create the interactive `DataFrame` called `dfi`\n",
    "</details>\n",
    "\n"
   ]
  },
  {
   "cell_type": "code",
   "execution_count": null,
   "id": "05c67f4c",
   "metadata": {},
   "outputs": [],
   "source": [
    "dfi = ... # Interactive DataFrame version of most_severe"
   ]
  },
  {
   "cell_type": "markdown",
   "id": "a0904f51",
   "metadata": {},
   "source": [
    "<details><summary>Solution</summary><br>\n",
    "\n",
    "```python\n",
    "dfi = most_severe.interactive(sizing_mode='stretch_width')\n",
    "```"
   ]
  },
  {
   "cell_type": "markdown",
   "id": "7106e529",
   "metadata": {},
   "source": [
    "Now use this interactive `Dataframe` to filter the earthquakes deeper than specified by the `depth_slider`. Call this filtered dataframe `depth_filtered` and to view it conveniently, use the `.head()` method to see the first few entries.\n",
    "\n",
    "\n",
    "<br><details><summary>Hint</summary><br>\n",
    "\n",
    "Use the the regular pandas idiom to filter a `DataFrame` with `df[mask]` where `mask` is boolean mask. The only difference is instead of picking a fixed depth value to filter by, you can use the `depth_slider` widget instead.\n",
    "</details>"
   ]
  },
  {
   "cell_type": "code",
   "execution_count": null,
   "id": "b92bd2c8",
   "metadata": {},
   "outputs": [],
   "source": [
    "depth_filtered = ...\n",
    "# Now display the head of this interactive dataframe"
   ]
  },
  {
   "cell_type": "markdown",
   "id": "40aca054",
   "metadata": {},
   "source": [
    "<details><summary>Solution</summary><br>\n",
    "\n",
    "```python\n",
    "depth_slider = pn.widgets.FloatSlider(name='Minimum depth', start=0, end=700, value=350)\n",
    "\n",
    "dfi = most_severe.interactive(sizing_mode='stretch_width')\n",
    "depth_filtered = dfi[dfi['depth'] < depth_slider]\n",
    "\n",
    "depth_filtered.head()\n",
    "```"
   ]
  },
  {
   "cell_type": "markdown",
   "id": "87ef325e",
   "metadata": {},
   "source": [
    "#### Plotting the depth filtered data\n",
    "\n",
    "For an initial plot, try calling `.hvplot()` and seeing what happens.\n"
   ]
  },
  {
   "cell_type": "code",
   "execution_count": null,
   "id": "40ca70c2",
   "metadata": {},
   "outputs": [],
   "source": [
    "# depth_filtered.hvplot()"
   ]
  },
  {
   "cell_type": "markdown",
   "id": "d0acefec",
   "metadata": {},
   "source": [
    "Now let us focus on plotting the magnitude of the filtered earthquakes as a scatter plot with red cross (`x`) markers.\n",
    "\n",
    "<br><details><summary>Hint</summary><br>\n",
    "\n",
    "The magnitude column is called `mag`, you can set cross markers with `marker='x'` and to get a scatter plot you can use `kind='scatter'`.\n",
    "</details>\n"
   ]
  },
  {
   "cell_type": "code",
   "execution_count": null,
   "id": "e8c2bd3a",
   "metadata": {},
   "outputs": [],
   "source": [
    "# Scatter plot of magnitude, filtered by depth with red cross markers"
   ]
  },
  {
   "cell_type": "markdown",
   "id": "5088d4a3",
   "metadata": {},
   "source": [
    "<details><summary>Solution</summary><br>\n",
    "\n",
    "```python\n",
    "depth_slider = pn.widgets.FloatSlider(name='Minimum depth', start=0, end=700, value=350)\n",
    "\n",
    "dfi = most_severe.interactive(sizing_mode='stretch_width')\n",
    "depth_filtered = dfi[dfi['depth'] < depth_slider]\n",
    "depth_filtered.hvplot(y='mag', kind='scatter', color='red', marker='x')\n",
    "```"
   ]
  },
  {
   "cell_type": "code",
   "execution_count": null,
   "id": "0014a797",
   "metadata": {},
   "outputs": [],
   "source": [
    "depth_slider = pn.widgets.FloatSlider(name='Minimum depth', start=0, end=700, value=350)\n",
    "\n",
    "dfi = most_severe.interactive(sizing_mode='stretch_width')\n",
    "depth_filtered = dfi[dfi['depth'] < depth_slider]\n",
    "depth_filtered.hvplot(y='mag', kind='scatter', color='red', marker='x')"
   ]
  }
 ],
 "metadata": {
  "kernelspec": {
   "display_name": "Python 3",
   "language": "python",
   "name": "python3"
  },
  "language_info": {
   "codemirror_mode": {
    "name": "ipython",
    "version": 3
   },
   "file_extension": ".py",
   "mimetype": "text/x-python",
   "name": "python",
   "nbconvert_exporter": "python",
   "pygments_lexer": "ipython3",
   "version": "3.8.10"
  }
 },
 "nbformat": 4,
 "nbformat_minor": 5
}
